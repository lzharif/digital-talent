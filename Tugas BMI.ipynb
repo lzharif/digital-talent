{
 "cells": [
  {
   "cell_type": "markdown",
   "metadata": {},
   "source": [
    "# TUGAS BMI\n",
    "## Nama: Luthfi Zharif"
   ]
  },
  {
   "cell_type": "markdown",
   "metadata": {},
   "source": [
    "### Soal\n",
    "Body Mass Index (BMI) menentukan sebuah keidealan berat badan terhadap tinggi badan. Berikut adalah formula dari BMI : BMI = weight (kg) ÷ height^2 (m^2)\n",
    "\n",
    "Berikut adalah kategorisasi BMI\n",
    "\n",
    "| BMI                 | Kategori BMI             |   |\n",
    "|---------------------|---------------------------|---|\n",
    "| Kurang dari 15        | Very severely underweight |   |\n",
    "| Diantara 15 dan 16   | Severely underweight      |   |\n",
    "| Diantara 16 dan 18.5 | Underweight               |   |\n",
    "| Diantara 18.5 dan 25 | Normal (healthy weight)   |   |\n",
    "| Diantara 25 dan 30   | Overweight                |   |\n",
    "| Diantara 30 dan 35   | Moderately obese          |   |\n",
    "| Diantara 35 dan 40   | Severely obese            |   |\n",
    "| Over 40             | Very severely obese       |   |\n",
    "\n",
    "Buatlah sebuah program yang memiliki dua variabel berat badan dengan satuan KG, dan tinggi badan dengan satuan CM, kemudian keluaran dari program adalah Kategori BMI"
   ]
  },
  {
   "cell_type": "markdown",
   "metadata": {},
   "source": [
    "### Jawaban\n",
    "#### Langkah:\n",
    "1. Masukan berat (KG) dan tinggi badan (CM) bernilai lebih dari nol\n",
    "2. Lakukan perhitungan dan tampilkan hasilnya\n",
    "\n",
    "nb: Kode ditulis dalam bahasa Inggris agar programmer internasional bisa paham. Soal dan jawaban tidak diubah ke bahasa Inggris karena authornya terlalu malas untuk terjemahin :v"
   ]
  },
  {
   "cell_type": "code",
   "execution_count": 17,
   "metadata": {},
   "outputs": [
    {
     "name": "stdout",
     "output_type": "stream",
     "text": [
      "Insert your body weight (Kg): 68\n",
      "Insert your body height (Cm): 173\n"
     ]
    }
   ],
   "source": [
    "# Use try and except to prevent input from string\n",
    "# variables stored as float\n",
    "try:\n",
    "    weight = float(input(\"Insert your body weight (Kg): \"))\n",
    "    height = float(input(\"Insert your body height (Cm): \"))\n",
    "except:\n",
    "    print(\"Please insert valid number! Make sure you use dot (.) not comma (,)\")    "
   ]
  },
  {
   "cell_type": "code",
   "execution_count": 18,
   "metadata": {},
   "outputs": [
    {
     "name": "stdout",
     "output_type": "stream",
     "text": [
      "Your BMI score:  22.720438370810918\n",
      "Category: Normal (healthy weight)\n"
     ]
    }
   ],
   "source": [
    "# BMI formula\n",
    "\n",
    "# Let's keep all variables higher than zero\n",
    "if weight <= 0 or height <= 0:\n",
    "    print(\"Looks like your data seems illogical for human being.\")\n",
    "    \n",
    "else:\n",
    "    # Formula starts here\n",
    "    heightMeter = height / 100\n",
    "    BMI = weight / pow(heightMeter, 2) # alternative code: weight / heightMeter**2\n",
    "    \n",
    "    # Exposing the truth\n",
    "    print(\"Your BMI score: \", BMI)\n",
    "    if BMI < 15:\n",
    "        print(\"Category: Very severely underweight\")\n",
    "    elif BMI <= 16:\n",
    "        print(\"Category: Severely underweight\")\n",
    "    elif BMI <= 18.5:\n",
    "        print(\"Category: Underweight\")\n",
    "    elif BMI <= 25:\n",
    "        print(\"Category: Normal (healthy weight)\")\n",
    "    elif BMI <= 30:\n",
    "        print(\"Category: Overweight\")\n",
    "    elif BMI <= 35:\n",
    "        print(\"Category: Moderately obese\")\n",
    "    elif BMI <= 40:\n",
    "        print(\"Category: Severely obese\")\n",
    "    else:\n",
    "        print(\"Category: Very severely obese\")"
   ]
  }
 ],
 "metadata": {
  "kernelspec": {
   "display_name": "Python 3",
   "language": "python",
   "name": "python3"
  },
  "language_info": {
   "codemirror_mode": {
    "name": "ipython",
    "version": 3
   },
   "file_extension": ".py",
   "mimetype": "text/x-python",
   "name": "python",
   "nbconvert_exporter": "python",
   "pygments_lexer": "ipython3",
   "version": "3.6.4"
  }
 },
 "nbformat": 4,
 "nbformat_minor": 2
}

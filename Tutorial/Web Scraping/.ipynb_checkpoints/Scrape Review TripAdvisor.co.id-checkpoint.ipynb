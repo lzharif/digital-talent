{
 "cells": [
  {
   "cell_type": "markdown",
   "metadata": {},
   "source": [
    "# Web Scrape Review TripAdvisor.co.id"
   ]
  },
  {
   "cell_type": "markdown",
   "metadata": {},
   "source": [
    "Pada python notebook ini akan dijelaskan mengenai scraping review dalam tripadvisor.co.id\n",
    "Notebook ini disadur dari https://github.com/gunturbudi/web-scraping\n",
    "\n",
    "Scraping dimulai dari halaman review, lalu akan menelusuri setiap review, dan akan mengambil properties berupa:\n",
    "- nilai\n",
    "- review"
   ]
  },
  {
   "cell_type": "code",
   "execution_count": 1,
   "metadata": {},
   "outputs": [
    {
     "name": "stdout",
     "output_type": "stream",
     "text": [
      "https://www.tripadvisor.co.id/Hotel_Review-g5074492-d5012360-Reviews-Eastparc_Hotel-Depok_Yogyakarta_Java.html\n",
      "<class 'bytes'>\n",
      "b'!DOCTYPE html><html lang=\"id\" xmlns:og=\"http://opengraphprotocol.org/schema/\"><head><meta http-equi'\n"
     ]
    }
   ],
   "source": [
    "import urllib\n",
    "\n",
    "REVIEW_URL = \"https://www.tripadvisor.co.id/Hotel_Review-g5074492-d5012360-Reviews-Eastparc_Hotel-Depok_Yogyakarta_Java.html\"\n",
    "\n",
    "print(REVIEW_URL)\n",
    "\n",
    "r = urllib.request.urlopen(REVIEW_URL).read()\n",
    "print(type(r))\n",
    "print(r[1:100])"
   ]
  },
  {
   "cell_type": "code",
   "execution_count": 2,
   "metadata": {},
   "outputs": [
    {
     "name": "stdout",
     "output_type": "stream",
     "text": [
      "<class 'bs4.BeautifulSoup'>\n",
      "!DOCTYPE html>\n",
      "<html lang=\"id\" xmlns:og=\"http://opengraphprotocol.org/schema/\">\n",
      " <head>\n",
      "  <meta con\n"
     ]
    }
   ],
   "source": [
    "from bs4 import BeautifulSoup \n",
    "\n",
    "soup = BeautifulSoup(r,\"lxml\")\n",
    "print(type(soup))\n",
    "print(soup.prettify()[1:100])"
   ]
  },
  {
   "cell_type": "code",
   "execution_count": 3,
   "metadata": {},
   "outputs": [
    {
     "name": "stdout",
     "output_type": "stream",
     "text": [
      "5\n"
     ]
    }
   ],
   "source": [
    "reviews = []\n",
    "\n",
    "i = 0\n",
    "for review in soup.find_all(\"div\",\"reviewSelector\"):\n",
    "    rating = review.find(\"span\",\"ui_bubble_rating\").get(\"class\")[1].split(\"_\")[1][0] #lol\n",
    "    entry = review.find(\"span\",\"noQuotes\").text\n",
    "    reviews.append([rating, entry])\n",
    "    \n",
    "print(len(reviews))"
   ]
  },
  {
   "cell_type": "code",
   "execution_count": 4,
   "metadata": {},
   "outputs": [],
   "source": [
    "import csv\n",
    "\n",
    "with open('data_review.csv', 'w') as f:\n",
    "    writer = csv.writer(f)\n",
    "    writer.writerows(reviews)"
   ]
  }
 ],
 "metadata": {
  "kernelspec": {
   "display_name": "Python 3",
   "language": "python",
   "name": "python3"
  },
  "language_info": {
   "codemirror_mode": {
    "name": "ipython",
    "version": 3
   },
   "file_extension": ".py",
   "mimetype": "text/x-python",
   "name": "python",
   "nbconvert_exporter": "python",
   "pygments_lexer": "ipython3",
   "version": "3.6.4"
  }
 },
 "nbformat": 4,
 "nbformat_minor": 1
}

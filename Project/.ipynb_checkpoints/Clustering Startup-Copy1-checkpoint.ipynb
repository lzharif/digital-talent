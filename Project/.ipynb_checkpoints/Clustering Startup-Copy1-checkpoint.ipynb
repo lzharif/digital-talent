{
 "cells": [
  {
   "cell_type": "code",
   "execution_count": 1,
   "metadata": {},
   "outputs": [],
   "source": [
    "import numpy as np\n",
    "import pandas as pd\n",
    "import nltk\n",
    "from sklearn import feature_extraction\n",
    "from sklearn.feature_extraction.text import TfidfVectorizer\n",
    "from sklearn.cluster import KMeans\n",
    "from sklearn import metrics\n",
    "from scipy.spatial.distance import cdist\n",
    "import numpy as np\n",
    "import matplotlib.pyplot as plt\n",
    "from nltk.tokenize import RegexpTokenizer\n",
    "from nltk.stem.snowball import SnowballStemmer"
   ]
  },
  {
   "cell_type": "code",
   "execution_count": 2,
   "metadata": {},
   "outputs": [
    {
     "data": {
      "text/html": [
       "<div>\n",
       "<style scoped>\n",
       "    .dataframe tbody tr th:only-of-type {\n",
       "        vertical-align: middle;\n",
       "    }\n",
       "\n",
       "    .dataframe tbody tr th {\n",
       "        vertical-align: top;\n",
       "    }\n",
       "\n",
       "    .dataframe thead th {\n",
       "        text-align: right;\n",
       "    }\n",
       "</style>\n",
       "<table border=\"1\" class=\"dataframe\">\n",
       "  <thead>\n",
       "    <tr style=\"text-align: right;\">\n",
       "      <th></th>\n",
       "      <th>GLOBALEVENTID</th>\n",
       "      <th>index</th>\n",
       "      <th>SQLDATE</th>\n",
       "      <th>MonthYear</th>\n",
       "      <th>Year</th>\n",
       "      <th>FractionDate</th>\n",
       "      <th>Actor1Code</th>\n",
       "      <th>Actor1Name</th>\n",
       "      <th>Actor1CountryCode</th>\n",
       "      <th>Actor1KnownGroupCode</th>\n",
       "      <th>...</th>\n",
       "      <th>ActionGeo_FullName</th>\n",
       "      <th>ActionGeo_CountryCode</th>\n",
       "      <th>ActionGeo_ADM1Code</th>\n",
       "      <th>ActionGeo_Lat</th>\n",
       "      <th>ActionGeo_Long</th>\n",
       "      <th>ActionGeo_FeatureID</th>\n",
       "      <th>DATEADDED</th>\n",
       "      <th>SOURCEURL</th>\n",
       "      <th>ARTICLEURL</th>\n",
       "      <th>ARTICLETITLE</th>\n",
       "    </tr>\n",
       "  </thead>\n",
       "  <tbody>\n",
       "    <tr>\n",
       "      <th>0.0</th>\n",
       "      <td>795321987</td>\n",
       "      <td>38.0</td>\n",
       "      <td>20181017</td>\n",
       "      <td>201810</td>\n",
       "      <td>2018</td>\n",
       "      <td>2018.7863</td>\n",
       "      <td>BUS</td>\n",
       "      <td>COMPANY</td>\n",
       "      <td>NaN</td>\n",
       "      <td>NaN</td>\n",
       "      <td>...</td>\n",
       "      <td>Indonesia</td>\n",
       "      <td>ID</td>\n",
       "      <td>ID</td>\n",
       "      <td>-5.00000</td>\n",
       "      <td>120.000</td>\n",
       "      <td>ID</td>\n",
       "      <td>20181017.0</td>\n",
       "      <td>https://www.coindesk.com/f2pool-founders-crypt...</td>\n",
       "      <td>Cobo, a Beijing-based cryptocurrency wallet st...</td>\n",
       "      <td>F2Pool Founderâ€™s Crypto Wallet Startup Raise...</td>\n",
       "    </tr>\n",
       "    <tr>\n",
       "      <th>1.0</th>\n",
       "      <td>786638486</td>\n",
       "      <td>245.0</td>\n",
       "      <td>20180913</td>\n",
       "      <td>201809</td>\n",
       "      <td>2018</td>\n",
       "      <td>2018.6932</td>\n",
       "      <td>CHN</td>\n",
       "      <td>CHINA</td>\n",
       "      <td>CHN</td>\n",
       "      <td>NaN</td>\n",
       "      <td>...</td>\n",
       "      <td>Indonesia</td>\n",
       "      <td>ID</td>\n",
       "      <td>ID</td>\n",
       "      <td>-5.00000</td>\n",
       "      <td>120.000</td>\n",
       "      <td>ID</td>\n",
       "      <td>20180913.0</td>\n",
       "      <td>https://economictimes.indiatimes.com/small-biz...</td>\n",
       "      <td>BENGALURU: When hotel chain OYO decided to exp...</td>\n",
       "      <td>How Ritesh Agarwal's OYO scaled the great wall...</td>\n",
       "    </tr>\n",
       "    <tr>\n",
       "      <th>2.0</th>\n",
       "      <td>783214317</td>\n",
       "      <td>312.0</td>\n",
       "      <td>20180830</td>\n",
       "      <td>201808</td>\n",
       "      <td>2018</td>\n",
       "      <td>2018.6575</td>\n",
       "      <td>IDNBUS</td>\n",
       "      <td>INDONESIA</td>\n",
       "      <td>IDN</td>\n",
       "      <td>NaN</td>\n",
       "      <td>...</td>\n",
       "      <td>Jakarta, Jakarta Raya, Indonesia</td>\n",
       "      <td>ID</td>\n",
       "      <td>ID04</td>\n",
       "      <td>-6.17444</td>\n",
       "      <td>106.829</td>\n",
       "      <td>-2679652</td>\n",
       "      <td>20180830.0</td>\n",
       "      <td>http://www.en.netralnews.com/news/business/rea...</td>\n",
       "      <td>Ã°Å¸â€Å  Listen to this\\r\\r\\n\\r\\r\\n\\r\\r\\n\\r\\r...</td>\n",
       "      <td>Minister of Communication and Information Aims...</td>\n",
       "    </tr>\n",
       "    <tr>\n",
       "      <th>4.0</th>\n",
       "      <td>749145806</td>\n",
       "      <td>708.0</td>\n",
       "      <td>20180419</td>\n",
       "      <td>201804</td>\n",
       "      <td>2018</td>\n",
       "      <td>2018.2986</td>\n",
       "      <td>IDN</td>\n",
       "      <td>INDONESIA</td>\n",
       "      <td>IDN</td>\n",
       "      <td>NaN</td>\n",
       "      <td>...</td>\n",
       "      <td>Indonesia</td>\n",
       "      <td>ID</td>\n",
       "      <td>ID</td>\n",
       "      <td>-5.00000</td>\n",
       "      <td>120.000</td>\n",
       "      <td>ID</td>\n",
       "      <td>20180419.0</td>\n",
       "      <td>https://economictimes.indiatimes.com/small-biz...</td>\n",
       "      <td>In the last six months, employees at Razorpay ...</td>\n",
       "      <td>Customer-connect a whole new ball game at star...</td>\n",
       "    </tr>\n",
       "    <tr>\n",
       "      <th>5.0</th>\n",
       "      <td>741541805</td>\n",
       "      <td>813.0</td>\n",
       "      <td>20180324</td>\n",
       "      <td>201803</td>\n",
       "      <td>2018</td>\n",
       "      <td>2018.2301</td>\n",
       "      <td>IDN</td>\n",
       "      <td>INDONESIA</td>\n",
       "      <td>IDN</td>\n",
       "      <td>NaN</td>\n",
       "      <td>...</td>\n",
       "      <td>Jakarta, Jakarta Raya, Indonesia</td>\n",
       "      <td>ID</td>\n",
       "      <td>ID04</td>\n",
       "      <td>-6.17444</td>\n",
       "      <td>106.829</td>\n",
       "      <td>-2679652</td>\n",
       "      <td>20180324.0</td>\n",
       "      <td>http://www.en.netralnews.com/news/currentnews/...</td>\n",
       "      <td>Ã°Å¸â€Å  Listen to this\\r\\r\\n\\r\\r\\n\\r\\r\\n\\r\\r...</td>\n",
       "      <td>15 Indonesia-Singapore Startups Join, Collabor...</td>\n",
       "    </tr>\n",
       "  </tbody>\n",
       "</table>\n",
       "<p>5 rows × 61 columns</p>\n",
       "</div>"
      ],
      "text/plain": [
       "     GLOBALEVENTID  index   SQLDATE  MonthYear  Year  FractionDate Actor1Code  \\\n",
       "0.0      795321987   38.0  20181017     201810  2018     2018.7863        BUS   \n",
       "1.0      786638486  245.0  20180913     201809  2018     2018.6932        CHN   \n",
       "2.0      783214317  312.0  20180830     201808  2018     2018.6575     IDNBUS   \n",
       "4.0      749145806  708.0  20180419     201804  2018     2018.2986        IDN   \n",
       "5.0      741541805  813.0  20180324     201803  2018     2018.2301        IDN   \n",
       "\n",
       "    Actor1Name Actor1CountryCode Actor1KnownGroupCode  \\\n",
       "0.0    COMPANY               NaN                  NaN   \n",
       "1.0      CHINA               CHN                  NaN   \n",
       "2.0  INDONESIA               IDN                  NaN   \n",
       "4.0  INDONESIA               IDN                  NaN   \n",
       "5.0  INDONESIA               IDN                  NaN   \n",
       "\n",
       "                           ...                          \\\n",
       "0.0                        ...                           \n",
       "1.0                        ...                           \n",
       "2.0                        ...                           \n",
       "4.0                        ...                           \n",
       "5.0                        ...                           \n",
       "\n",
       "                   ActionGeo_FullName ActionGeo_CountryCode  \\\n",
       "0.0                         Indonesia                    ID   \n",
       "1.0                         Indonesia                    ID   \n",
       "2.0  Jakarta, Jakarta Raya, Indonesia                    ID   \n",
       "4.0                         Indonesia                    ID   \n",
       "5.0  Jakarta, Jakarta Raya, Indonesia                    ID   \n",
       "\n",
       "    ActionGeo_ADM1Code ActionGeo_Lat ActionGeo_Long ActionGeo_FeatureID  \\\n",
       "0.0                 ID      -5.00000        120.000                  ID   \n",
       "1.0                 ID      -5.00000        120.000                  ID   \n",
       "2.0               ID04      -6.17444        106.829            -2679652   \n",
       "4.0                 ID      -5.00000        120.000                  ID   \n",
       "5.0               ID04      -6.17444        106.829            -2679652   \n",
       "\n",
       "      DATEADDED                                          SOURCEURL  \\\n",
       "0.0  20181017.0  https://www.coindesk.com/f2pool-founders-crypt...   \n",
       "1.0  20180913.0  https://economictimes.indiatimes.com/small-biz...   \n",
       "2.0  20180830.0  http://www.en.netralnews.com/news/business/rea...   \n",
       "4.0  20180419.0  https://economictimes.indiatimes.com/small-biz...   \n",
       "5.0  20180324.0  http://www.en.netralnews.com/news/currentnews/...   \n",
       "\n",
       "                                            ARTICLEURL  \\\n",
       "0.0  Cobo, a Beijing-based cryptocurrency wallet st...   \n",
       "1.0  BENGALURU: When hotel chain OYO decided to exp...   \n",
       "2.0  Ã°Å¸â€Å  Listen to this\\r\\r\\n\\r\\r\\n\\r\\r\\n\\r\\r...   \n",
       "4.0  In the last six months, employees at Razorpay ...   \n",
       "5.0  Ã°Å¸â€Å  Listen to this\\r\\r\\n\\r\\r\\n\\r\\r\\n\\r\\r...   \n",
       "\n",
       "                                          ARTICLETITLE  \n",
       "0.0  F2Pool Founderâ€™s Crypto Wallet Startup Raise...  \n",
       "1.0  How Ritesh Agarwal's OYO scaled the great wall...  \n",
       "2.0  Minister of Communication and Information Aims...  \n",
       "4.0  Customer-connect a whole new ball game at star...  \n",
       "5.0  15 Indonesia-Singapore Startups Join, Collabor...  \n",
       "\n",
       "[5 rows x 61 columns]"
      ]
     },
     "execution_count": 2,
     "metadata": {},
     "output_type": "execute_result"
    }
   ],
   "source": [
    "df = pd.read_excel(\"berita startup 2014-2018.xlsx\", sep = \";\", encoding=\"ISO-8859-1\")\n",
    "df = df.dropna(subset=['ARTICLETITLE', 'ARTICLEURL'])\n",
    "df.head()"
   ]
  },
  {
   "cell_type": "code",
   "execution_count": 3,
   "metadata": {},
   "outputs": [
    {
     "data": {
      "text/plain": [
       "1093"
      ]
     },
     "execution_count": 3,
     "metadata": {},
     "output_type": "execute_result"
    }
   ],
   "source": [
    "len(df)"
   ]
  },
  {
   "cell_type": "code",
   "execution_count": 4,
   "metadata": {},
   "outputs": [
    {
     "data": {
      "text/html": [
       "<div>\n",
       "<style scoped>\n",
       "    .dataframe tbody tr th:only-of-type {\n",
       "        vertical-align: middle;\n",
       "    }\n",
       "\n",
       "    .dataframe tbody tr th {\n",
       "        vertical-align: top;\n",
       "    }\n",
       "\n",
       "    .dataframe thead th {\n",
       "        text-align: right;\n",
       "    }\n",
       "</style>\n",
       "<table border=\"1\" class=\"dataframe\">\n",
       "  <thead>\n",
       "    <tr style=\"text-align: right;\">\n",
       "      <th></th>\n",
       "      <th>ARTICLEURL</th>\n",
       "      <th>ARTICLETITLE</th>\n",
       "    </tr>\n",
       "  </thead>\n",
       "  <tbody>\n",
       "    <tr>\n",
       "      <th>0.0</th>\n",
       "      <td>Cobo, a Beijing-based cryptocurrency wallet st...</td>\n",
       "      <td>F2Pool Founderâ€™s Crypto Wallet Startup Raise...</td>\n",
       "    </tr>\n",
       "    <tr>\n",
       "      <th>1.0</th>\n",
       "      <td>BENGALURU: When hotel chain OYO decided to exp...</td>\n",
       "      <td>How Ritesh Agarwal's OYO scaled the great wall...</td>\n",
       "    </tr>\n",
       "    <tr>\n",
       "      <th>2.0</th>\n",
       "      <td>Ã°Å¸â€Å  Listen to this\\r\\r\\n\\r\\r\\n\\r\\r\\n\\r\\r...</td>\n",
       "      <td>Minister of Communication and Information Aims...</td>\n",
       "    </tr>\n",
       "    <tr>\n",
       "      <th>4.0</th>\n",
       "      <td>In the last six months, employees at Razorpay ...</td>\n",
       "      <td>Customer-connect a whole new ball game at star...</td>\n",
       "    </tr>\n",
       "    <tr>\n",
       "      <th>5.0</th>\n",
       "      <td>Ã°Å¸â€Å  Listen to this\\r\\r\\n\\r\\r\\n\\r\\r\\n\\r\\r...</td>\n",
       "      <td>15 Indonesia-Singapore Startups Join, Collabor...</td>\n",
       "    </tr>\n",
       "  </tbody>\n",
       "</table>\n",
       "</div>"
      ],
      "text/plain": [
       "                                            ARTICLEURL  \\\n",
       "0.0  Cobo, a Beijing-based cryptocurrency wallet st...   \n",
       "1.0  BENGALURU: When hotel chain OYO decided to exp...   \n",
       "2.0  Ã°Å¸â€Å  Listen to this\\r\\r\\n\\r\\r\\n\\r\\r\\n\\r\\r...   \n",
       "4.0  In the last six months, employees at Razorpay ...   \n",
       "5.0  Ã°Å¸â€Å  Listen to this\\r\\r\\n\\r\\r\\n\\r\\r\\n\\r\\r...   \n",
       "\n",
       "                                          ARTICLETITLE  \n",
       "0.0  F2Pool Founderâ€™s Crypto Wallet Startup Raise...  \n",
       "1.0  How Ritesh Agarwal's OYO scaled the great wall...  \n",
       "2.0  Minister of Communication and Information Aims...  \n",
       "4.0  Customer-connect a whole new ball game at star...  \n",
       "5.0  15 Indonesia-Singapore Startups Join, Collabor...  "
      ]
     },
     "execution_count": 4,
     "metadata": {},
     "output_type": "execute_result"
    }
   ],
   "source": [
    "df_text = df[[\"ARTICLEURL\", \"ARTICLETITLE\"]]\n",
    "df_text.head()"
   ]
  },
  {
   "cell_type": "code",
   "execution_count": 5,
   "metadata": {},
   "outputs": [
    {
     "data": {
      "text/plain": [
       "0.0    F2Pool Founderâ€™s Crypto Wallet Startup Raise...\n",
       "1.0    How Ritesh Agarwal's OYO scaled the great wall...\n",
       "2.0    Minister of Communication and Information Aims...\n",
       "4.0    Customer-connect a whole new ball game at star...\n",
       "5.0    15 Indonesia-Singapore Startups Join, Collabor...\n",
       "dtype: object"
      ]
     },
     "execution_count": 5,
     "metadata": {},
     "output_type": "execute_result"
    }
   ],
   "source": [
    "text = df_text[\"ARTICLETITLE\"].map(str) + \" \" + df_text[\"ARTICLEURL\"].map(str)\n",
    "\n",
    "text.head()"
   ]
  },
  {
   "cell_type": "code",
   "execution_count": 6,
   "metadata": {},
   "outputs": [
    {
     "data": {
      "text/plain": [
       "1    How Ritesh Agarwal's OYO scaled the great wall...\n",
       "1    Minister Rudiantara: New unicorns should emerg...\n",
       "1    BCA eyes 80% e-commerce transaction growth The...\n",
       "dtype: object"
      ]
     },
     "execution_count": 6,
     "metadata": {},
     "output_type": "execute_result"
    }
   ],
   "source": [
    "text[1]"
   ]
  },
  {
   "cell_type": "code",
   "execution_count": 7,
   "metadata": {},
   "outputs": [
    {
     "data": {
      "text/plain": [
       "0.0    f2pool founder crypto wallet raises 13 million...\n",
       "1.0    how ritesh agarwal oyo scaled great wall china...\n",
       "2.0    minister communication information aims have 1...\n",
       "4.0    customer connect whole new ball game in last s...\n",
       "5.0    15 singapore join collaborate batam nongsa par...\n",
       "dtype: object"
      ]
     },
     "execution_count": 7,
     "metadata": {},
     "output_type": "execute_result"
    }
   ],
   "source": [
    "# hai = text[1].encode('utf-8', 'ignore').decode('utf-8')\n",
    "# hai = [word for word in text[1].split(\" \") if word.isalpha()]\n",
    "import re\n",
    "from nltk.corpus import stopwords\n",
    "\n",
    "stop_words = set(stopwords.words('english'))\n",
    "\n",
    "def clean_text(txt):\n",
    "    unnecessary = ['indonesia','indonesian','startup','startups','said','company','companies','business','businesses', 'digital']\n",
    "    txt_c = re.sub(r'[^A-Za-z0-9]+', ' ', txt)\n",
    "    txt_c = txt_c.split(\" \")\n",
    "    words = [w for w in txt_c if not w in stop_words]\n",
    "    words_ne = [a for a in words if not a.lower() in unnecessary]\n",
    "    txt_c = \" \".join(words_ne)\n",
    "    txt_c = txt_c.lower()\n",
    "    return txt_c\n",
    "\n",
    "text_clear = text.apply(clean_text)\n",
    "text_clear.head()"
   ]
  },
  {
   "cell_type": "code",
   "execution_count": 8,
   "metadata": {},
   "outputs": [],
   "source": [
    "# here I define a tokenizer and stemmer which returns the set of stems in the text that it is passed\n",
    "\n",
    "def tokenize_only(text):\n",
    "    # first tokenize by sentence, then by word to ensure that punctuation is caught as it's own token\n",
    "    tokens = [word.lower() for sent in nltk.sent_tokenize(text) for word in nltk.word_tokenize(sent)]\n",
    "    filtered_tokens = []\n",
    "    # filter out any tokens not containing letters (e.g., numeric tokens, raw punctuation)\n",
    "    for token in tokens:\n",
    "        if re.search('[a-zA-Z]', token):\n",
    "            filtered_tokens.append(token)\n",
    "    return filtered_tokens"
   ]
  },
  {
   "cell_type": "code",
   "execution_count": 9,
   "metadata": {},
   "outputs": [],
   "source": [
    "totalvocab_tokenized = []\n",
    "for i in text_clear:\n",
    "    allwords_tokenized = tokenize_only(i)\n",
    "    totalvocab_tokenized.extend(allwords_tokenized)"
   ]
  },
  {
   "cell_type": "code",
   "execution_count": 10,
   "metadata": {},
   "outputs": [],
   "source": [
    "totalvocab_tokenized = pd.Series(totalvocab_tokenized)"
   ]
  },
  {
   "cell_type": "code",
   "execution_count": 11,
   "metadata": {},
   "outputs": [
    {
     "name": "stdout",
     "output_type": "stream",
     "text": [
      "347407\n"
     ]
    }
   ],
   "source": [
    "print (len(totalvocab_tokenized))\n"
   ]
  },
  {
   "cell_type": "code",
   "execution_count": 12,
   "metadata": {},
   "outputs": [],
   "source": [
    "vocab_frame = pd.DataFrame({'words': totalvocab_tokenized})\n",
    "\n",
    "# vocab_frame = vocab_frame.replace(unecessary,'')"
   ]
  },
  {
   "cell_type": "code",
   "execution_count": 13,
   "metadata": {},
   "outputs": [
    {
     "data": {
      "text/plain": [
       "347407"
      ]
     },
     "execution_count": 13,
     "metadata": {},
     "output_type": "execute_result"
    }
   ],
   "source": [
    "len(vocab_frame)"
   ]
  },
  {
   "cell_type": "code",
   "execution_count": 14,
   "metadata": {},
   "outputs": [
    {
     "name": "stdout",
     "output_type": "stream",
     "text": [
      "Wall time: 5.44 s\n",
      "(1093, 91)\n"
     ]
    }
   ],
   "source": [
    "from sklearn.feature_extraction.text import TfidfVectorizer\n",
    "\n",
    "# tfidf_vectorizer = TfidfVectorizer(stop_words='english')\n",
    "\n",
    "tfidf_vectorizer = TfidfVectorizer(max_df=0.8, max_features=50000,\n",
    "                                 min_df=0.2, stop_words='english',\n",
    "                                 use_idf=True, tokenizer=tokenize_only, ngram_range=(1,3))\n",
    "\n",
    "%time tfidf_matrix = tfidf_vectorizer.fit_transform(text_clear)\n",
    "\n",
    "print(tfidf_matrix.shape)"
   ]
  },
  {
   "cell_type": "code",
   "execution_count": 15,
   "metadata": {},
   "outputs": [],
   "source": [
    "terms = tfidf_vectorizer.get_feature_names()"
   ]
  },
  {
   "cell_type": "code",
   "execution_count": 16,
   "metadata": {},
   "outputs": [],
   "source": [
    "from sklearn.metrics.pairwise import cosine_similarity\n",
    "dist = 1 - cosine_similarity(tfidf_matrix)"
   ]
  },
  {
   "cell_type": "markdown",
   "metadata": {},
   "source": [
    "# KMeans Analysis"
   ]
  },
  {
   "cell_type": "code",
   "execution_count": 17,
   "metadata": {},
   "outputs": [
    {
     "data": {
      "image/png": "[encoded data removed]",
      "text/plain": [
       "<matplotlib.figure.Figure at 0x19ea051dd30>"
      ]
     },
     "metadata": {
      "needs_background": "light"
     },
     "output_type": "display_data"
    }
   ],
   "source": [
    "# PLOT ELBOW, Source code ini paling berfungsi untuk TFIDF\n",
    "\n",
    "X = tfidf_matrix\n",
    "\n",
    "wcss = []\n",
    "for i in range(1,11):\n",
    "    kmeans = KMeans(n_clusters=i,init='k-means++',max_iter=100,n_init=1)\n",
    "    kmeans.fit(X)\n",
    "    wcss.append(kmeans.inertia_)\n",
    "plt.plot(range(1,11),wcss)\n",
    "plt.title('The Elbow Method')\n",
    "plt.xlabel('Number of clusters')\n",
    "plt.ylabel('WCSS')\n",
    "plt.savefig('elbow.png')\n",
    "plt.show()"
   ]
  },
  {
   "cell_type": "code",
   "execution_count": 18,
   "metadata": {},
   "outputs": [
    {
     "name": "stdout",
     "output_type": "stream",
     "text": [
      "Wall time: 194 ms\n"
     ]
    }
   ],
   "source": [
    "from sklearn.cluster import KMeans\n",
    "\n",
    "num_clusters = 3\n",
    "\n",
    "km = KMeans(n_clusters=num_clusters,init='k-means++',max_iter=100,n_init=1)\n",
    "\n",
    "%time km.fit(tfidf_matrix)\n",
    "\n",
    "clusters = km.labels_.tolist()"
   ]
  },
  {
   "cell_type": "code",
   "execution_count": 19,
   "metadata": {},
   "outputs": [
    {
     "data": {
      "text/html": [
       "<div>\n",
       "<style scoped>\n",
       "    .dataframe tbody tr th:only-of-type {\n",
       "        vertical-align: middle;\n",
       "    }\n",
       "\n",
       "    .dataframe tbody tr th {\n",
       "        vertical-align: top;\n",
       "    }\n",
       "\n",
       "    .dataframe thead th {\n",
       "        text-align: right;\n",
       "    }\n",
       "</style>\n",
       "<table border=\"1\" class=\"dataframe\">\n",
       "  <thead>\n",
       "    <tr style=\"text-align: right;\">\n",
       "      <th></th>\n",
       "      <th>ARTICLEURL</th>\n",
       "      <th>ARTICLETITLE</th>\n",
       "      <th>CLUSTERS</th>\n",
       "    </tr>\n",
       "  </thead>\n",
       "  <tbody>\n",
       "    <tr>\n",
       "      <th>0.0</th>\n",
       "      <td>cobo beijing based cryptocurrency wallet close...</td>\n",
       "      <td>f2pool founder crypto wallet raises 13 million</td>\n",
       "      <td>0</td>\n",
       "    </tr>\n",
       "    <tr>\n",
       "      <th>1.0</th>\n",
       "      <td>bengaluru when hotel chain oyo decided expand ...</td>\n",
       "      <td>how ritesh agarwal oyo scaled great wall china</td>\n",
       "      <td>0</td>\n",
       "    </tr>\n",
       "    <tr>\n",
       "      <th>2.0</th>\n",
       "      <td>listen jakarta nnc minister communication inf...</td>\n",
       "      <td>minister communication information aims have 1...</td>\n",
       "      <td>0</td>\n",
       "    </tr>\n",
       "    <tr>\n",
       "      <th>4.0</th>\n",
       "      <td>in last six months employees razorpay sharpene...</td>\n",
       "      <td>customer connect whole new ball game</td>\n",
       "      <td>0</td>\n",
       "    </tr>\n",
       "    <tr>\n",
       "      <th>5.0</th>\n",
       "      <td>listen jakarta nnc despite inaugurated foreig...</td>\n",
       "      <td>15 singapore join collaborate batam nongsa park</td>\n",
       "      <td>0</td>\n",
       "    </tr>\n",
       "  </tbody>\n",
       "</table>\n",
       "</div>"
      ],
      "text/plain": [
       "                                            ARTICLEURL  \\\n",
       "0.0  cobo beijing based cryptocurrency wallet close...   \n",
       "1.0  bengaluru when hotel chain oyo decided expand ...   \n",
       "2.0   listen jakarta nnc minister communication inf...   \n",
       "4.0  in last six months employees razorpay sharpene...   \n",
       "5.0   listen jakarta nnc despite inaugurated foreig...   \n",
       "\n",
       "                                          ARTICLETITLE  CLUSTERS  \n",
       "0.0     f2pool founder crypto wallet raises 13 million         0  \n",
       "1.0     how ritesh agarwal oyo scaled great wall china         0  \n",
       "2.0  minister communication information aims have 1...         0  \n",
       "4.0               customer connect whole new ball game         0  \n",
       "5.0    15 singapore join collaborate batam nongsa park         0  "
      ]
     },
     "execution_count": 19,
     "metadata": {},
     "output_type": "execute_result"
    }
   ],
   "source": [
    "clustered_df = df_text.copy(deep=True)\n",
    "clustered_df['CLUSTERS'] = clusters\n",
    "clustered_df[\"ARTICLEURL\"] = clustered_df[\"ARTICLEURL\"].apply(clean_text)\n",
    "clustered_df[\"ARTICLETITLE\"] = clustered_df[\"ARTICLETITLE\"].apply(clean_text)\n",
    "clustered_df.head()"
   ]
  },
  {
   "cell_type": "code",
   "execution_count": 20,
   "metadata": {},
   "outputs": [],
   "source": [
    "title = clustered_df['ARTICLETITLE']"
   ]
  },
  {
   "cell_type": "code",
   "execution_count": 21,
   "metadata": {},
   "outputs": [
    {
     "data": {
      "text/plain": [
       "0    684\n",
       "1    265\n",
       "2    144\n",
       "Name: CLUSTERS, dtype: int64"
      ]
     },
     "execution_count": 21,
     "metadata": {},
     "output_type": "execute_result"
    }
   ],
   "source": [
    "clustered_df['CLUSTERS'].value_counts()"
   ]
  },
  {
   "cell_type": "code",
   "execution_count": 22,
   "metadata": {},
   "outputs": [
    {
     "name": "stdout",
     "output_type": "stream",
     "text": [
      "Top terms per cluster:\n",
      "Cluster 0:\n",
      " asia\n",
      " million\n",
      " online\n",
      " funding\n",
      " market\n",
      " singapore\n",
      " new\n",
      " tech\n",
      " platform\n",
      " jakarta\n",
      "Cluster 1:\n",
      " commerce\n",
      " e commerce\n",
      " e\n",
      " online\n",
      " com\n",
      " government\n",
      " market\n",
      " billion\n",
      " percent\n",
      " china\n",
      "Cluster 2:\n",
      " fintech\n",
      " financial\n",
      " bank\n",
      " services\n",
      " technology\n",
      " industry\n",
      " sector\n",
      " new\n",
      " payment\n",
      " development\n"
     ]
    }
   ],
   "source": [
    "print(\"Top terms per cluster:\")\n",
    "order_centroids = km.cluster_centers_.argsort()[:, ::-1]\n",
    "terms = tfidf_vectorizer.get_feature_names()\n",
    "for i in range(num_clusters):\n",
    "    print(\"Cluster %d:\" % i),\n",
    "    for ind in order_centroids[i, :10]:\n",
    "        print(' %s' % terms[ind])"
   ]
  },
  {
   "cell_type": "code",
   "execution_count": 23,
   "metadata": {},
   "outputs": [],
   "source": [
    "import os  # for os.path.basename\n",
    "\n",
    "import matplotlib.pyplot as plt\n",
    "import matplotlib as mpl\n",
    "\n",
    "from sklearn.manifold import MDS\n",
    "\n",
    "MDS()\n",
    "\n",
    "# two components as we're plotting points in a two-dimensional plane\n",
    "# \"precomputed\" because we provide a distance matrix\n",
    "# we will also specify `random_state` so the plot is reproducible.\n",
    "mds = MDS(n_components=2, dissimilarity=\"precomputed\", random_state=1)\n",
    "\n",
    "pos = mds.fit_transform(dist)  # shape (n_components, n_samples)\n",
    "\n",
    "xs, ys = pos[:, 0], pos[:, 1]"
   ]
  },
  {
   "cell_type": "code",
   "execution_count": 24,
   "metadata": {},
   "outputs": [],
   "source": [
    "#strip any proper nouns (NNP) or plural proper nouns (NNPS) from a text\n",
    "from nltk.tag import pos_tag\n",
    "\n",
    "def strip_proppers_POS(text):\n",
    "    tagged = pos_tag(text.split()) #use NLTK's part of speech tagger\n",
    "    non_propernouns = [word for word,pos in tagged if pos != 'NNP' and pos != 'NNPS']\n",
    "    return non_propernouns"
   ]
  },
  {
   "cell_type": "code",
   "execution_count": 26,
   "metadata": {},
   "outputs": [],
   "source": [
    "#set up colors per clusters using a dict\n",
    "cluster_colors = {0: '#163ea4', 1: '#66a61e', 2: '#e7298a'} #3: '#e7298a', 4: '#d95f02', 5: '#1b9e77'\n",
    "# cluster_colors = {0: '#163ea4', 1: '#66a61e', 2: '#e7298a', 3: '#e7298a', 4: '#d95f02'}#, 5: '#1b9e77'\n",
    "\n",
    "#set up cluster names using a dict\n",
    "cluster_names = {0: 'Asia, Million, Funding, Market, Singapore', \n",
    "                 1: 'Commerce, E-Commerce, Online, Market, Percent',\n",
    "                 2: 'Fintech, Financial, Technology, Bank, Services, Industry'\n",
    "                 }\n",
    "# cluster_names = {0: 'Platform, online, mobile', \n",
    "#                  1: 'Fintech, Financial, Technology, Bank, Services, Industry',\n",
    "#                  2: 'Commerce, E-Commerce, Online, Market, Percent',\n",
    "#                  3: 'Asia, Million, Funding, Market, Singapore',\n",
    "#                 4: 'Jakarta, People, New, Local, World'}"
   ]
  },
  {
   "cell_type": "code",
   "execution_count": 27,
   "metadata": {},
   "outputs": [],
   "source": [
    "%matplotlib inline"
   ]
  },
  {
   "cell_type": "code",
   "execution_count": 28,
   "metadata": {},
   "outputs": [
    {
     "data": {
      "image/png": "[encoded data removed]",
      "text/plain": [
       "<matplotlib.figure.Figure at 0x19ea2c28ac8>"
      ]
     },
     "metadata": {},
     "output_type": "display_data"
    }
   ],
   "source": [
    "#create data frame that has the result of the MDS plus the cluster numbers and titles\n",
    "df = pd.DataFrame(dict(x=xs, y=ys, label=clusters, title=title)) \n",
    "\n",
    "#group by cluster\n",
    "groups = df.groupby('label')\n",
    "\n",
    "\n",
    "# set up plot\n",
    "fig, ax = plt.subplots(figsize=(17, 9)) # set size\n",
    "ax.margins(0.05) # Optional, just adds 5% padding to the autoscaling\n",
    "\n",
    "#iterate through groups to layer the plot\n",
    "#note that I use the cluster_name and cluster_color dicts with the 'name' lookup to return the appropriate color/label\n",
    "for name, group in groups:\n",
    "    ax.plot(group.x, group.y, marker='o', linestyle='', ms=12, label=cluster_names[name], color=cluster_colors[name], mec='none')\n",
    "    ax.set_aspect('auto')\n",
    "    ax.tick_params(\\\n",
    "        axis= 'x',          # changes apply to the x-axis\n",
    "        which='both',      # both major and minor ticks are affected\n",
    "        bottom= False,      # ticks along the bottom edge are off\n",
    "        top= False,         # ticks along the top edge are off\n",
    "        labelbottom=False)\n",
    "    ax.tick_params(\\\n",
    "        axis= 'y',         # changes apply to the y-axis\n",
    "        which='both',      # both major and minor ticks are affected\n",
    "        left=False,      # ticks along the bottom edge are off\n",
    "        top=False,         # ticks along the top edge are off\n",
    "        labelleft=False)\n",
    "    \n",
    "ax.legend(numpoints=1)  #show legend with only 1 point\n",
    "\n",
    "#add label in x,y position with the label as the film title\n",
    "# for i in range(len(df)):\n",
    "#     ax.text(df.loc[i]['x'], df.loc[i]['y'], df.loc[i]['title'], size=8)  \n",
    "\n",
    "    \n",
    "    \n",
    "plt.show() #show the plot\n",
    "\n",
    "#uncomment the below to save the plot if need be\n",
    "#plt.savefig('clusters_small_noaxes.png', dpi=200)"
   ]
  },
  {
   "cell_type": "code",
   "execution_count": null,
   "metadata": {},
   "outputs": [],
   "source": []
  }
 ],
 "metadata": {
  "kernelspec": {
   "display_name": "Python 3",
   "language": "python",
   "name": "python3"
  },
  "language_info": {
   "codemirror_mode": {
    "name": "ipython",
    "version": 3
   },
   "file_extension": ".py",
   "mimetype": "text/x-python",
   "name": "python",
   "nbconvert_exporter": "python",
   "pygments_lexer": "ipython3",
   "version": "3.6.4"
  }
 },
 "nbformat": 4,
 "nbformat_minor": 2
}

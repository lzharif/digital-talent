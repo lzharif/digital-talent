{
 "cells": [
  {
   "cell_type": "code",
   "execution_count": 1,
   "metadata": {},
   "outputs": [],
   "source": [
    "import numpy as np\n",
    "import pandas as pd\n",
    "import nltk\n",
    "from bs4 import BeautifulSoup\n",
    "import re\n",
    "import os\n",
    "import codecs\n",
    "from sklearn import feature_extraction\n",
    "from sklearn.feature_extraction.text import TfidfVectorizer\n",
    "from sklearn.cluster import KMeans\n",
    "from sklearn import metrics\n",
    "from scipy.spatial.distance import cdist\n",
    "import numpy as np\n",
    "import matplotlib.pyplot as plt\n",
    "from nltk.tokenize import RegexpTokenizer\n",
    "from nltk.stem.snowball import SnowballStemmer"
   ]
  },
  {
   "cell_type": "code",
   "execution_count": 2,
   "metadata": {},
   "outputs": [
    {
     "data": {
      "text/html": [
       "<div>\n",
       "<style scoped>\n",
       "    .dataframe tbody tr th:only-of-type {\n",
       "        vertical-align: middle;\n",
       "    }\n",
       "\n",
       "    .dataframe tbody tr th {\n",
       "        vertical-align: top;\n",
       "    }\n",
       "\n",
       "    .dataframe thead th {\n",
       "        text-align: right;\n",
       "    }\n",
       "</style>\n",
       "<table border=\"1\" class=\"dataframe\">\n",
       "  <thead>\n",
       "    <tr style=\"text-align: right;\">\n",
       "      <th></th>\n",
       "      <th>GLOBALEVENTID</th>\n",
       "      <th>index</th>\n",
       "      <th>SQLDATE</th>\n",
       "      <th>MonthYear</th>\n",
       "      <th>Year</th>\n",
       "      <th>FractionDate</th>\n",
       "      <th>Actor1Code</th>\n",
       "      <th>Actor1Name</th>\n",
       "      <th>Actor1CountryCode</th>\n",
       "      <th>Actor1KnownGroupCode</th>\n",
       "      <th>...</th>\n",
       "      <th>ActionGeo_FullName</th>\n",
       "      <th>ActionGeo_CountryCode</th>\n",
       "      <th>ActionGeo_ADM1Code</th>\n",
       "      <th>ActionGeo_Lat</th>\n",
       "      <th>ActionGeo_Long</th>\n",
       "      <th>ActionGeo_FeatureID</th>\n",
       "      <th>DATEADDED</th>\n",
       "      <th>SOURCEURL</th>\n",
       "      <th>ARTICLEURL</th>\n",
       "      <th>ARTICLETITLE</th>\n",
       "    </tr>\n",
       "  </thead>\n",
       "  <tbody>\n",
       "    <tr>\n",
       "      <th>0.0</th>\n",
       "      <td>795321987</td>\n",
       "      <td>38.0</td>\n",
       "      <td>20181017</td>\n",
       "      <td>201810</td>\n",
       "      <td>2018</td>\n",
       "      <td>2018.7863</td>\n",
       "      <td>BUS</td>\n",
       "      <td>COMPANY</td>\n",
       "      <td>NaN</td>\n",
       "      <td>NaN</td>\n",
       "      <td>...</td>\n",
       "      <td>Indonesia</td>\n",
       "      <td>ID</td>\n",
       "      <td>ID</td>\n",
       "      <td>-5.00000</td>\n",
       "      <td>120.000</td>\n",
       "      <td>ID</td>\n",
       "      <td>20181017.0</td>\n",
       "      <td>https://www.coindesk.com/f2pool-founders-crypt...</td>\n",
       "      <td>Cobo, a Beijing-based cryptocurrency wallet st...</td>\n",
       "      <td>F2Pool Founderâ€™s Crypto Wallet Startup Raise...</td>\n",
       "    </tr>\n",
       "    <tr>\n",
       "      <th>1.0</th>\n",
       "      <td>786638486</td>\n",
       "      <td>245.0</td>\n",
       "      <td>20180913</td>\n",
       "      <td>201809</td>\n",
       "      <td>2018</td>\n",
       "      <td>2018.6932</td>\n",
       "      <td>CHN</td>\n",
       "      <td>CHINA</td>\n",
       "      <td>CHN</td>\n",
       "      <td>NaN</td>\n",
       "      <td>...</td>\n",
       "      <td>Indonesia</td>\n",
       "      <td>ID</td>\n",
       "      <td>ID</td>\n",
       "      <td>-5.00000</td>\n",
       "      <td>120.000</td>\n",
       "      <td>ID</td>\n",
       "      <td>20180913.0</td>\n",
       "      <td>https://economictimes.indiatimes.com/small-biz...</td>\n",
       "      <td>BENGALURU: When hotel chain OYO decided to exp...</td>\n",
       "      <td>How Ritesh Agarwal's OYO scaled the great wall...</td>\n",
       "    </tr>\n",
       "    <tr>\n",
       "      <th>2.0</th>\n",
       "      <td>783214317</td>\n",
       "      <td>312.0</td>\n",
       "      <td>20180830</td>\n",
       "      <td>201808</td>\n",
       "      <td>2018</td>\n",
       "      <td>2018.6575</td>\n",
       "      <td>IDNBUS</td>\n",
       "      <td>INDONESIA</td>\n",
       "      <td>IDN</td>\n",
       "      <td>NaN</td>\n",
       "      <td>...</td>\n",
       "      <td>Jakarta, Jakarta Raya, Indonesia</td>\n",
       "      <td>ID</td>\n",
       "      <td>ID04</td>\n",
       "      <td>-6.17444</td>\n",
       "      <td>106.829</td>\n",
       "      <td>-2679652</td>\n",
       "      <td>20180830.0</td>\n",
       "      <td>http://www.en.netralnews.com/news/business/rea...</td>\n",
       "      <td>Ã°Å¸â€Å  Listen to this\\r\\r\\n\\r\\r\\n\\r\\r\\n\\r\\r...</td>\n",
       "      <td>Minister of Communication and Information Aims...</td>\n",
       "    </tr>\n",
       "    <tr>\n",
       "      <th>4.0</th>\n",
       "      <td>749145806</td>\n",
       "      <td>708.0</td>\n",
       "      <td>20180419</td>\n",
       "      <td>201804</td>\n",
       "      <td>2018</td>\n",
       "      <td>2018.2986</td>\n",
       "      <td>IDN</td>\n",
       "      <td>INDONESIA</td>\n",
       "      <td>IDN</td>\n",
       "      <td>NaN</td>\n",
       "      <td>...</td>\n",
       "      <td>Indonesia</td>\n",
       "      <td>ID</td>\n",
       "      <td>ID</td>\n",
       "      <td>-5.00000</td>\n",
       "      <td>120.000</td>\n",
       "      <td>ID</td>\n",
       "      <td>20180419.0</td>\n",
       "      <td>https://economictimes.indiatimes.com/small-biz...</td>\n",
       "      <td>In the last six months, employees at Razorpay ...</td>\n",
       "      <td>Customer-connect a whole new ball game at star...</td>\n",
       "    </tr>\n",
       "    <tr>\n",
       "      <th>5.0</th>\n",
       "      <td>741541805</td>\n",
       "      <td>813.0</td>\n",
       "      <td>20180324</td>\n",
       "      <td>201803</td>\n",
       "      <td>2018</td>\n",
       "      <td>2018.2301</td>\n",
       "      <td>IDN</td>\n",
       "      <td>INDONESIA</td>\n",
       "      <td>IDN</td>\n",
       "      <td>NaN</td>\n",
       "      <td>...</td>\n",
       "      <td>Jakarta, Jakarta Raya, Indonesia</td>\n",
       "      <td>ID</td>\n",
       "      <td>ID04</td>\n",
       "      <td>-6.17444</td>\n",
       "      <td>106.829</td>\n",
       "      <td>-2679652</td>\n",
       "      <td>20180324.0</td>\n",
       "      <td>http://www.en.netralnews.com/news/currentnews/...</td>\n",
       "      <td>Ã°Å¸â€Å  Listen to this\\r\\r\\n\\r\\r\\n\\r\\r\\n\\r\\r...</td>\n",
       "      <td>15 Indonesia-Singapore Startups Join, Collabor...</td>\n",
       "    </tr>\n",
       "  </tbody>\n",
       "</table>\n",
       "<p>5 rows × 61 columns</p>\n",
       "</div>"
      ],
      "text/plain": [
       "     GLOBALEVENTID  index   SQLDATE  MonthYear  Year  FractionDate Actor1Code  \\\n",
       "0.0      795321987   38.0  20181017     201810  2018     2018.7863        BUS   \n",
       "1.0      786638486  245.0  20180913     201809  2018     2018.6932        CHN   \n",
       "2.0      783214317  312.0  20180830     201808  2018     2018.6575     IDNBUS   \n",
       "4.0      749145806  708.0  20180419     201804  2018     2018.2986        IDN   \n",
       "5.0      741541805  813.0  20180324     201803  2018     2018.2301        IDN   \n",
       "\n",
       "    Actor1Name Actor1CountryCode Actor1KnownGroupCode  \\\n",
       "0.0    COMPANY               NaN                  NaN   \n",
       "1.0      CHINA               CHN                  NaN   \n",
       "2.0  INDONESIA               IDN                  NaN   \n",
       "4.0  INDONESIA               IDN                  NaN   \n",
       "5.0  INDONESIA               IDN                  NaN   \n",
       "\n",
       "                           ...                          \\\n",
       "0.0                        ...                           \n",
       "1.0                        ...                           \n",
       "2.0                        ...                           \n",
       "4.0                        ...                           \n",
       "5.0                        ...                           \n",
       "\n",
       "                   ActionGeo_FullName ActionGeo_CountryCode  \\\n",
       "0.0                         Indonesia                    ID   \n",
       "1.0                         Indonesia                    ID   \n",
       "2.0  Jakarta, Jakarta Raya, Indonesia                    ID   \n",
       "4.0                         Indonesia                    ID   \n",
       "5.0  Jakarta, Jakarta Raya, Indonesia                    ID   \n",
       "\n",
       "    ActionGeo_ADM1Code ActionGeo_Lat ActionGeo_Long ActionGeo_FeatureID  \\\n",
       "0.0                 ID      -5.00000        120.000                  ID   \n",
       "1.0                 ID      -5.00000        120.000                  ID   \n",
       "2.0               ID04      -6.17444        106.829            -2679652   \n",
       "4.0                 ID      -5.00000        120.000                  ID   \n",
       "5.0               ID04      -6.17444        106.829            -2679652   \n",
       "\n",
       "      DATEADDED                                          SOURCEURL  \\\n",
       "0.0  20181017.0  https://www.coindesk.com/f2pool-founders-crypt...   \n",
       "1.0  20180913.0  https://economictimes.indiatimes.com/small-biz...   \n",
       "2.0  20180830.0  http://www.en.netralnews.com/news/business/rea...   \n",
       "4.0  20180419.0  https://economictimes.indiatimes.com/small-biz...   \n",
       "5.0  20180324.0  http://www.en.netralnews.com/news/currentnews/...   \n",
       "\n",
       "                                            ARTICLEURL  \\\n",
       "0.0  Cobo, a Beijing-based cryptocurrency wallet st...   \n",
       "1.0  BENGALURU: When hotel chain OYO decided to exp...   \n",
       "2.0  Ã°Å¸â€Å  Listen to this\\r\\r\\n\\r\\r\\n\\r\\r\\n\\r\\r...   \n",
       "4.0  In the last six months, employees at Razorpay ...   \n",
       "5.0  Ã°Å¸â€Å  Listen to this\\r\\r\\n\\r\\r\\n\\r\\r\\n\\r\\r...   \n",
       "\n",
       "                                          ARTICLETITLE  \n",
       "0.0  F2Pool Founderâ€™s Crypto Wallet Startup Raise...  \n",
       "1.0  How Ritesh Agarwal's OYO scaled the great wall...  \n",
       "2.0  Minister of Communication and Information Aims...  \n",
       "4.0  Customer-connect a whole new ball game at star...  \n",
       "5.0  15 Indonesia-Singapore Startups Join, Collabor...  \n",
       "\n",
       "[5 rows x 61 columns]"
      ]
     },
     "execution_count": 2,
     "metadata": {},
     "output_type": "execute_result"
    }
   ],
   "source": [
    "df = pd.read_excel(\"berita startup 2014-2018.xlsx\", sep = \";\", encoding=\"ISO-8859-1\")\n",
    "df = df.dropna(subset=['ARTICLETITLE', 'ARTICLEURL'])\n",
    "df.head()"
   ]
  },
  {
   "cell_type": "code",
   "execution_count": 3,
   "metadata": {},
   "outputs": [
    {
     "data": {
      "text/plain": [
       "1093"
      ]
     },
     "execution_count": 3,
     "metadata": {},
     "output_type": "execute_result"
    }
   ],
   "source": [
    "len(df)"
   ]
  },
  {
   "cell_type": "code",
   "execution_count": 4,
   "metadata": {},
   "outputs": [
    {
     "data": {
      "text/html": [
       "<div>\n",
       "<style scoped>\n",
       "    .dataframe tbody tr th:only-of-type {\n",
       "        vertical-align: middle;\n",
       "    }\n",
       "\n",
       "    .dataframe tbody tr th {\n",
       "        vertical-align: top;\n",
       "    }\n",
       "\n",
       "    .dataframe thead th {\n",
       "        text-align: right;\n",
       "    }\n",
       "</style>\n",
       "<table border=\"1\" class=\"dataframe\">\n",
       "  <thead>\n",
       "    <tr style=\"text-align: right;\">\n",
       "      <th></th>\n",
       "      <th>ARTICLEURL</th>\n",
       "      <th>ARTICLETITLE</th>\n",
       "    </tr>\n",
       "  </thead>\n",
       "  <tbody>\n",
       "    <tr>\n",
       "      <th>0.0</th>\n",
       "      <td>Cobo, a Beijing-based cryptocurrency wallet st...</td>\n",
       "      <td>F2Pool Founderâ€™s Crypto Wallet Startup Raise...</td>\n",
       "    </tr>\n",
       "    <tr>\n",
       "      <th>1.0</th>\n",
       "      <td>BENGALURU: When hotel chain OYO decided to exp...</td>\n",
       "      <td>How Ritesh Agarwal's OYO scaled the great wall...</td>\n",
       "    </tr>\n",
       "    <tr>\n",
       "      <th>2.0</th>\n",
       "      <td>Ã°Å¸â€Å  Listen to this\\r\\r\\n\\r\\r\\n\\r\\r\\n\\r\\r...</td>\n",
       "      <td>Minister of Communication and Information Aims...</td>\n",
       "    </tr>\n",
       "    <tr>\n",
       "      <th>4.0</th>\n",
       "      <td>In the last six months, employees at Razorpay ...</td>\n",
       "      <td>Customer-connect a whole new ball game at star...</td>\n",
       "    </tr>\n",
       "    <tr>\n",
       "      <th>5.0</th>\n",
       "      <td>Ã°Å¸â€Å  Listen to this\\r\\r\\n\\r\\r\\n\\r\\r\\n\\r\\r...</td>\n",
       "      <td>15 Indonesia-Singapore Startups Join, Collabor...</td>\n",
       "    </tr>\n",
       "  </tbody>\n",
       "</table>\n",
       "</div>"
      ],
      "text/plain": [
       "                                            ARTICLEURL  \\\n",
       "0.0  Cobo, a Beijing-based cryptocurrency wallet st...   \n",
       "1.0  BENGALURU: When hotel chain OYO decided to exp...   \n",
       "2.0  Ã°Å¸â€Å  Listen to this\\r\\r\\n\\r\\r\\n\\r\\r\\n\\r\\r...   \n",
       "4.0  In the last six months, employees at Razorpay ...   \n",
       "5.0  Ã°Å¸â€Å  Listen to this\\r\\r\\n\\r\\r\\n\\r\\r\\n\\r\\r...   \n",
       "\n",
       "                                          ARTICLETITLE  \n",
       "0.0  F2Pool Founderâ€™s Crypto Wallet Startup Raise...  \n",
       "1.0  How Ritesh Agarwal's OYO scaled the great wall...  \n",
       "2.0  Minister of Communication and Information Aims...  \n",
       "4.0  Customer-connect a whole new ball game at star...  \n",
       "5.0  15 Indonesia-Singapore Startups Join, Collabor...  "
      ]
     },
     "execution_count": 4,
     "metadata": {},
     "output_type": "execute_result"
    }
   ],
   "source": [
    "df_text = df[[\"ARTICLEURL\", \"ARTICLETITLE\"]]\n",
    "df_text.head()"
   ]
  },
  {
   "cell_type": "code",
   "execution_count": 5,
   "metadata": {},
   "outputs": [
    {
     "data": {
      "text/plain": [
       "0.0    F2Pool Founderâ€™s Crypto Wallet Startup Raise...\n",
       "1.0    How Ritesh Agarwal's OYO scaled the great wall...\n",
       "2.0    Minister of Communication and Information Aims...\n",
       "4.0    Customer-connect a whole new ball game at star...\n",
       "5.0    15 Indonesia-Singapore Startups Join, Collabor...\n",
       "dtype: object"
      ]
     },
     "execution_count": 5,
     "metadata": {},
     "output_type": "execute_result"
    }
   ],
   "source": [
    "text = df_text[\"ARTICLETITLE\"].map(str) + \" \" + df_text[\"ARTICLEURL\"].map(str)\n",
    "text.head()"
   ]
  },
  {
   "cell_type": "code",
   "execution_count": 6,
   "metadata": {},
   "outputs": [
    {
     "data": {
      "text/plain": [
       "1093"
      ]
     },
     "execution_count": 6,
     "metadata": {},
     "output_type": "execute_result"
    }
   ],
   "source": [
    "len(text)"
   ]
  },
  {
   "cell_type": "code",
   "execution_count": 7,
   "metadata": {},
   "outputs": [
    {
     "data": {
      "text/plain": [
       "1    How Ritesh Agarwal's OYO scaled the great wall...\n",
       "1    Minister Rudiantara: New unicorns should emerg...\n",
       "1    BCA eyes 80% e-commerce transaction growth The...\n",
       "dtype: object"
      ]
     },
     "execution_count": 7,
     "metadata": {},
     "output_type": "execute_result"
    }
   ],
   "source": [
    "text[1]"
   ]
  },
  {
   "cell_type": "code",
   "execution_count": 8,
   "metadata": {},
   "outputs": [
    {
     "data": {
      "text/plain": [
       "0.0    f2pool founder crypto wallet raises 13 million...\n",
       "1.0    how ritesh agarwal oyo scaled great wall china...\n",
       "2.0    minister communication information aims have 1...\n",
       "4.0    customer connect whole new ball game in last s...\n",
       "5.0    15 singapore join collaborate batam nongsa par...\n",
       "dtype: object"
      ]
     },
     "execution_count": 8,
     "metadata": {},
     "output_type": "execute_result"
    }
   ],
   "source": [
    "# hai = text[1].encode('utf-8', 'ignore').decode('utf-8')\n",
    "# hai = [word for word in text[1].split(\" \") if word.isalpha()]\n",
    "import re\n",
    "from nltk.corpus import stopwords\n",
    "\n",
    "stop_words = set(stopwords.words('english'))\n",
    "\n",
    "def clean_text(txt):\n",
    "    unnecessary = ['indonesia','indonesian','startup','startups','said','company','companies','business','businesses', 'digital']\n",
    "    txt_c = re.sub(r'[^A-Za-z0-9]+', ' ', txt)\n",
    "    txt_c = txt_c.split(\" \")\n",
    "    words = [w for w in txt_c if not w in stop_words]\n",
    "    words_ne = [a for a in words if not a.lower() in unnecessary]\n",
    "    txt_c = \" \".join(words_ne)\n",
    "    txt_c = txt_c.lower()\n",
    "    return txt_c\n",
    "\n",
    "text_clear = text.apply(clean_text)\n",
    "text_clear.head()"
   ]
  },
  {
   "cell_type": "code",
   "execution_count": 41,
   "metadata": {},
   "outputs": [],
   "source": [
    "# vectorizer = TfidfVectorizer(stop_words='english')\n",
    "tfidf_vectorizer = TfidfVectorizer(max_df=0.8, max_features=50000,\n",
    "                                 min_df=0.2, stop_words='english',\n",
    "                                 use_idf=True, ngram_range=(1,3))\n",
    "X = vectorizer.fit_transform(text_clear)"
   ]
  },
  {
   "cell_type": "code",
   "execution_count": 42,
   "metadata": {},
   "outputs": [
    {
     "data": {
      "image/png": "[encoded data removed]",
      "text/plain": [
       "<matplotlib.figure.Figure at 0x29170305da0>"
      ]
     },
     "metadata": {},
     "output_type": "display_data"
    }
   ],
   "source": [
    "from sklearn.cluster import KMeans\n",
    "from sklearn import metrics\n",
    "from scipy.spatial.distance import cdist\n",
    "import numpy as np\n",
    "import matplotlib.pyplot as plt\n",
    "\n",
    "wcss = []\n",
    "for i in range(1,11):\n",
    "    kmeans = KMeans(n_clusters=i,init='k-means++',max_iter=100,n_init=1)\n",
    "    kmeans.fit(X)\n",
    "    wcss.append(kmeans.inertia_)\n",
    "plt.plot(range(1,11),wcss)\n",
    "plt.title('The Elbow Method')\n",
    "plt.xlabel('Number of clusters')\n",
    "plt.ylabel('WCSS')\n",
    "plt.savefig('elbow.png')\n",
    "plt.show()"
   ]
  },
  {
   "cell_type": "code",
   "execution_count": 49,
   "metadata": {},
   "outputs": [
    {
     "data": {
      "text/plain": [
       "KMeans(algorithm='auto', copy_x=True, init='k-means++', max_iter=100,\n",
       "    n_clusters=4, n_init=1, n_jobs=1, precompute_distances='auto',\n",
       "    random_state=None, tol=0.0001, verbose=0)"
      ]
     },
     "execution_count": 49,
     "metadata": {},
     "output_type": "execute_result"
    }
   ],
   "source": [
    "true_k = 4\n",
    "model = KMeans(n_clusters=true_k, init='k-means++', max_iter=100, n_init=1)\n",
    "model.fit(X)"
   ]
  },
  {
   "cell_type": "code",
   "execution_count": 50,
   "metadata": {},
   "outputs": [
    {
     "name": "stdout",
     "output_type": "stream",
     "text": [
      "Top terms per cluster:\n",
      "Cluster 0:\n",
      " ma\n",
      " jack\n",
      " alibaba\n",
      " commerce\n",
      " adviser\n",
      " rudiantara\n",
      " committee\n",
      " steering\n",
      " government\n",
      " minister\n",
      "Cluster 1:\n",
      " fintech\n",
      " financial\n",
      " ojk\n",
      " bank\n",
      " services\n",
      " lending\n",
      " banks\n",
      " industry\n",
      " technology\n",
      " peer\n",
      "Cluster 2:\n",
      " ecommerce\n",
      " online\n",
      " tokopedia\n",
      " shopping\n",
      " investment\n",
      " country\n",
      " lippo\n",
      " million\n",
      " market\n",
      " year\n",
      "Cluster 3:\n",
      " commerce\n",
      " online\n",
      " asia\n",
      " million\n",
      " market\n",
      " singapore\n",
      " jek\n",
      " grab\n",
      " southeast\n",
      " billion\n"
     ]
    }
   ],
   "source": [
    "print(\"Top terms per cluster:\")\n",
    "order_centroids = model.cluster_centers_.argsort()[:, ::-1]\n",
    "terms = vectorizer.get_feature_names()\n",
    "for i in range(true_k):\n",
    "    print(\"Cluster %d:\" % i),\n",
    "    for ind in order_centroids[i, :10]:\n",
    "        print(' %s' % terms[ind]),\n",
    "    print"
   ]
  },
  {
   "cell_type": "markdown",
   "metadata": {},
   "source": [
    "### Plotlib"
   ]
  },
  {
   "cell_type": "code",
   "execution_count": 28,
   "metadata": {},
   "outputs": [],
   "source": [
    "%matplotlib inline"
   ]
  },
  {
   "cell_type": "code",
   "execution_count": 29,
   "metadata": {},
   "outputs": [],
   "source": [
    "import matplotlib.pyplot as plt\n",
    "from sklearn.manifold import TSNE"
   ]
  },
  {
   "cell_type": "code",
   "execution_count": 30,
   "metadata": {},
   "outputs": [],
   "source": [
    "centroids = model.cluster_centers_"
   ]
  },
  {
   "cell_type": "code",
   "execution_count": 31,
   "metadata": {},
   "outputs": [
    {
     "name": "stdout",
     "output_type": "stream",
     "text": [
      "[[   6.729779  145.16455 ]\n",
      " [-194.06271   -31.654776]\n",
      " [  59.463276 -117.136734]]\n"
     ]
    },
    {
     "data": {
      "image/png": "[encoded data removed]",
      "text/plain": [
       "<matplotlib.figure.Figure at 0x2916ec6df60>"
      ]
     },
     "metadata": {
      "needs_background": "light"
     },
     "output_type": "display_data"
    }
   ],
   "source": [
    "tsne_init = 'pca'\n",
    "tsne_perplexity = 20.0\n",
    "tsne_early_exaggeration = 4.0\n",
    "tsne_learning_rate = 1000\n",
    "random_state = 1\n",
    "model = TSNE(n_components=2, random_state=random_state, init=tsne_init, perplexity=tsne_perplexity,\n",
    "         early_exaggeration=tsne_early_exaggeration, learning_rate=tsne_learning_rate)\n",
    "\n",
    "transformed_centroids = model.fit_transform(centroids)\n",
    "print(transformed_centroids)\n",
    "plt.scatter(transformed_centroids[:, 0], transformed_centroids[:, 1], marker='x')\n",
    "plt.show()"
   ]
  },
  {
   "cell_type": "code",
   "execution_count": 32,
   "metadata": {},
   "outputs": [],
   "source": [
    "%matplotlib inline\n",
    "import matplotlib.pyplot as plt\n",
    "import seaborn as sns; sns.set()  # for plot styling\n",
    "import numpy as np"
   ]
  },
  {
   "cell_type": "code",
   "execution_count": 33,
   "metadata": {},
   "outputs": [
    {
     "data": {
      "image/png": "[encoded data removed]",
      "text/plain": [
       "<matplotlib.figure.Figure at 0x2916a2c2cc0>"
      ]
     },
     "metadata": {},
     "output_type": "display_data"
    }
   ],
   "source": [
    "from sklearn.datasets.samples_generator import make_blobs\n",
    "X, y_true = make_blobs(n_samples=300, centers=3,\n",
    "                       cluster_std=0.60, random_state=0)\n",
    "plt.scatter(X[:, 0], X[:, 1], s=50);"
   ]
  },
  {
   "cell_type": "code",
   "execution_count": 34,
   "metadata": {},
   "outputs": [],
   "source": [
    "from sklearn.cluster import KMeans\n",
    "kmeans = KMeans(n_clusters=3)\n",
    "kmeans.fit(X)\n",
    "y_kmeans = kmeans.predict(X)"
   ]
  },
  {
   "cell_type": "code",
   "execution_count": 35,
   "metadata": {},
   "outputs": [
    {
     "data": {
      "image/png": "[encoded data removed]",
      "text/plain": [
       "<matplotlib.figure.Figure at 0x291704e7668>"
      ]
     },
     "metadata": {},
     "output_type": "display_data"
    }
   ],
   "source": [
    "plt.scatter(X[:, 0], X[:, 1], c=y_kmeans, s=50, cmap='viridis')\n",
    "\n",
    "centers = kmeans.cluster_centers_\n",
    "plt.scatter(centers[:, 0], centers[:, 1], c='black', s=200, alpha=0.5);"
   ]
  },
  {
   "cell_type": "code",
   "execution_count": null,
   "metadata": {},
   "outputs": [],
   "source": []
  }
 ],
 "metadata": {
  "kernelspec": {
   "display_name": "Python 3",
   "language": "python",
   "name": "python3"
  },
  "language_info": {
   "codemirror_mode": {
    "name": "ipython",
    "version": 3
   },
   "file_extension": ".py",
   "mimetype": "text/x-python",
   "name": "python",
   "nbconvert_exporter": "python",
   "pygments_lexer": "ipython3",
   "version": "3.6.4"
  }
 },
 "nbformat": 4,
 "nbformat_minor": 2
}

{
 "cells": [
  {
   "cell_type": "markdown",
   "metadata": {},
   "source": [
    "# Eksplorasi Dinamisme Startup di Indonesia Menggunakan Big Data\n",
    "\n",
    "Digital Talent Scholarship 2018, Kelas A - Universitas Gadjah Mada\n",
    "\n",
    "Anggota:\n",
    "1. Luthfi Zharif\n",
    "2. Larasati Aisyah R. A.\n",
    "3. Karyadi\n",
    "4. Izzan Rijal\n",
    "5. Ismul Aksan\n",
    "\n",
    "Selamat datang di notebook proyek kami! Notebook kami akan mencoba mengeksplorasi aktivitas perusahaan rintisan, atau yang biasa dikenal dengan startup menggunakan dataset berita dari [GDELT](https://www.gdeltproject.org/). Proyek ini akan terus kami perbaiki selama beberapa waktu kedepan, jadi pastikan untuk klik ~~like dan subscribe~~ star pada repo ini agar kamu bisa tahu perkembangan eksplorasi kami.\n",
    "\n",
    "Notebook ini akan terbagi menjadi beberapa bagian, yaitu ekstraksi data, transformasi data, dan analisis. Ayo kita langsung saja!"
   ]
  },
  {
   "cell_type": "markdown",
   "metadata": {},
   "source": [
    "## Ekstraksi Data\n",
    "### 1. Download\n",
    "\n",
    "Data ini bisa diolah dengan dua cara, yakni melalui olah secara cloud maupun local. Dalam notebook ini, semua pengolahan akan dilakukan secara local. Oleh karena itu, kita perlu mengunduh data GDELT ke dalam mesin lokal terlebih dahulu.\n",
    "\n",
    "Berikut adalah contoh script untuk mengunduh data GDELT dengan country code 'ID'. Country code ini menandakan bahwa kita hanya menyimpan data yang berhubungan dengan Indonesia. Source code ini disadur dari [Github pak Guntur Budi](https://github.com/gunturbudi/digital-talent/blob/master/RETRIEVE%20GDELT%20DATA.ipynb)"
   ]
  },
  {
   "cell_type": "code",
   "execution_count": 10,
   "metadata": {},
   "outputs": [
    {
     "name": "stdout",
     "output_type": "stream",
     "text": [
      "['20181103.export.CSV.zip', '20181102.export.CSV.zip', '20181101.export.CSV.zip', '20181031.export.CSV.zip', '20181030.export.CSV.zip', '20181029.export.CSV.zip', '20181028.export.CSV.zip', '20181027.export.CSV.zip', '20181026.export.CSV.zip', '20181025.export.CSV.zip', '20181024.export.CSV.zip', '20181023.export.CSV.zip', '20181022.export.CSV.zip', '20181021.export.CSV.zip', '20181020.export.CSV.zip', '20181019.export.CSV.zip', '20181018.export.CSV.zip', '20181017.export.CSV.zip', '20181016.export.CSV.zip', '20181015.export.CSV.zip', '20181014.export.CSV.zip', '20181013.export.CSV.zip', '20181012.export.CSV.zip', '20181011.export.CSV.zip', '20181010.export.CSV.zip', '20181009.export.CSV.zip', '20181008.export.CSV.zip', '20181007.export.CSV.zip', '20181006.export.CSV.zip', '20181005.export.CSV.zip', '20181004.export.CSV.zip', '20181003.export.CSV.zip', '20181002.export.CSV.zip', '20181001.export.CSV.zip', '20180930.export.CSV.zip', '20180929.export.CSV.zip', '20180928.export.CSV.zip', '20180927.export.CSV.zip', '20180926.export.CSV.zip', '20180925.export.CSV.zip', '20180924.export.CSV.zip', '20180923.export.CSV.zip', '20180922.export.CSV.zip', '20180921.export.CSV.zip', '20180920.export.CSV.zip', '20180919.export.CSV.zip', '20180918.export.CSV.zip', '20180917.export.CSV.zip', '20180916.export.CSV.zip', '20180915.export.CSV.zip', '20180914.export.CSV.zip', '20180913.export.CSV.zip', '20180912.export.CSV.zip', '20180911.export.CSV.zip', '20180910.export.CSV.zip', '20180909.export.CSV.zip', '20180908.export.CSV.zip', '20180907.export.CSV.zip', '20180906.export.CSV.zip', '20180905.export.CSV.zip', '20180904.export.CSV.zip', '20180903.export.CSV.zip', '20180902.export.CSV.zip', '20180901.export.CSV.zip', '20180831.export.CSV.zip', '20180830.export.CSV.zip', '20180829.export.CSV.zip', '20180828.export.CSV.zip', '20180827.export.CSV.zip', '20180826.export.CSV.zip', '20180825.export.CSV.zip', '20180824.export.CSV.zip', '20180823.export.CSV.zip', '20180822.export.CSV.zip', '20180821.export.CSV.zip', '20180820.export.CSV.zip', '20180819.export.CSV.zip', '20180818.export.CSV.zip', '20180817.export.CSV.zip', '20180816.export.CSV.zip', '20180815.export.CSV.zip', '20180814.export.CSV.zip', '20180813.export.CSV.zip', '20180812.export.CSV.zip', '20180811.export.CSV.zip', '20180810.export.CSV.zip', '20180809.export.CSV.zip', '20180808.export.CSV.zip', '20180807.export.CSV.zip', '20180806.export.CSV.zip', '20180805.export.CSV.zip', '20180804.export.CSV.zip', '20180803.export.CSV.zip', '20180802.export.CSV.zip', '20180801.export.CSV.zip', '20180731.export.CSV.zip', '20180730.export.CSV.zip', '20180729.export.CSV.zip', '20180728.export.CSV.zip', '20180727.export.CSV.zip', '20180726.export.CSV.zip', '20180725.export.CSV.zip', '20180724.export.CSV.zip', '20180723.export.CSV.zip', '20180722.export.CSV.zip', '20180721.export.CSV.zip', '20180720.export.CSV.zip', '20180719.export.CSV.zip', '20180718.export.CSV.zip', '20180717.export.CSV.zip', '20180716.export.CSV.zip', '20180715.export.CSV.zip', '20180714.export.CSV.zip', '20180713.export.CSV.zip', '20180712.export.CSV.zip', '20180711.export.CSV.zip', '20180710.export.CSV.zip', '20180709.export.CSV.zip', '20180708.export.CSV.zip', '20180707.export.CSV.zip', '20180706.export.CSV.zip', '20180705.export.CSV.zip', '20180704.export.CSV.zip', '20180703.export.CSV.zip', '20180702.export.CSV.zip', '20180701.export.CSV.zip', '20180630.export.CSV.zip', '20180629.export.CSV.zip', '20180628.export.CSV.zip', '20180627.export.CSV.zip', '20180626.export.CSV.zip', '20180625.export.CSV.zip', '20180624.export.CSV.zip', '20180623.export.CSV.zip', '20180622.export.CSV.zip', '20180621.export.CSV.zip', '20180620.export.CSV.zip', '20180619.export.CSV.zip', '20180618.export.CSV.zip', '20180617.export.CSV.zip', '20180616.export.CSV.zip', '20180615.export.CSV.zip', '20180614.export.CSV.zip', '20180613.export.CSV.zip', '20180612.export.CSV.zip', '20180611.export.CSV.zip', '20180610.export.CSV.zip', '20180609.export.CSV.zip', '20180608.export.CSV.zip', '20180607.export.CSV.zip', '20180606.export.CSV.zip', '20180605.export.CSV.zip', '20180604.export.CSV.zip', '20180603.export.CSV.zip', '20180602.export.CSV.zip', '20180601.export.CSV.zip', '20180531.export.CSV.zip', '20180530.export.CSV.zip', '20180529.export.CSV.zip', '20180528.export.CSV.zip', '20180527.export.CSV.zip', '20180526.export.CSV.zip', '20180525.export.CSV.zip', '20180524.export.CSV.zip', '20180523.export.CSV.zip', '20180522.export.CSV.zip', '20180521.export.CSV.zip', '20180520.export.CSV.zip', '20180519.export.CSV.zip', '20180518.export.CSV.zip', '20180517.export.CSV.zip', '20180516.export.CSV.zip', '20180515.export.CSV.zip', '20180514.export.CSV.zip', '20180513.export.CSV.zip', '20180512.export.CSV.zip', '20180511.export.CSV.zip', '20180510.export.CSV.zip', '20180509.export.CSV.zip', '20180508.export.CSV.zip', '20180507.export.CSV.zip', '20180506.export.CSV.zip', '20180505.export.CSV.zip', '20180504.export.CSV.zip', '20180503.export.CSV.zip', '20180502.export.CSV.zip', '20180501.export.CSV.zip', '20180430.export.CSV.zip', '20180429.export.CSV.zip', '20180428.export.CSV.zip', '20180427.export.CSV.zip', '20180426.export.CSV.zip', '20180425.export.CSV.zip', '20180424.export.CSV.zip', '20180423.export.CSV.zip', '20180422.export.CSV.zip', '20180421.export.CSV.zip', '20180420.export.CSV.zip', '20180419.export.CSV.zip', '20180418.export.CSV.zip', '20180417.export.CSV.zip', '20180416.export.CSV.zip', '20180415.export.CSV.zip', '20180414.export.CSV.zip', '20180413.export.CSV.zip', '20180412.export.CSV.zip', '20180411.export.CSV.zip', '20180410.export.CSV.zip', '20180409.export.CSV.zip', '20180408.export.CSV.zip', '20180407.export.CSV.zip', '20180406.export.CSV.zip', '20180405.export.CSV.zip', '20180404.export.CSV.zip', '20180403.export.CSV.zip', '20180402.export.CSV.zip', '20180401.export.CSV.zip', '20180331.export.CSV.zip', '20180330.export.CSV.zip', '20180329.export.CSV.zip', '20180328.export.CSV.zip', '20180327.export.CSV.zip', '20180326.export.CSV.zip', '20180325.export.CSV.zip', '20180324.export.CSV.zip', '20180323.export.CSV.zip', '20180322.export.CSV.zip', '20180321.export.CSV.zip', '20180320.export.CSV.zip', '20180319.export.CSV.zip', '20180318.export.CSV.zip', '20180317.export.CSV.zip', '20180316.export.CSV.zip', '20180315.export.CSV.zip', '20180314.export.CSV.zip', '20180313.export.CSV.zip', '20180312.export.CSV.zip', '20180311.export.CSV.zip', '20180310.export.CSV.zip', '20180309.export.CSV.zip', '20180308.export.CSV.zip', '20180307.export.CSV.zip', '20180306.export.CSV.zip', '20180305.export.CSV.zip', '20180304.export.CSV.zip', '20180303.export.CSV.zip', '20180302.export.CSV.zip', '20180301.export.CSV.zip', '20180228.export.CSV.zip', '20180227.export.CSV.zip', '20180226.export.CSV.zip', '20180225.export.CSV.zip', '20180224.export.CSV.zip', '20180223.export.CSV.zip', '20180222.export.CSV.zip', '20180221.export.CSV.zip', '20180220.export.CSV.zip', '20180219.export.CSV.zip', '20180218.export.CSV.zip', '20180217.export.CSV.zip', '20180216.export.CSV.zip', '20180215.export.CSV.zip', '20180214.export.CSV.zip', '20180213.export.CSV.zip', '20180212.export.CSV.zip', '20180211.export.CSV.zip', '20180210.export.CSV.zip', '20180209.export.CSV.zip', '20180208.export.CSV.zip', '20180207.export.CSV.zip', '20180206.export.CSV.zip', '20180205.export.CSV.zip', '20180204.export.CSV.zip', '20180203.export.CSV.zip', '20180202.export.CSV.zip', '20180201.export.CSV.zip', '20180131.export.CSV.zip', '20180130.export.CSV.zip', '20180129.export.CSV.zip', '20180128.export.CSV.zip', '20180127.export.CSV.zip', '20180126.export.CSV.zip', '20180125.export.CSV.zip', '20180124.export.CSV.zip', '20180123.export.CSV.zip', '20180122.export.CSV.zip', '20180121.export.CSV.zip', '20180120.export.CSV.zip', '20180119.export.CSV.zip', '20180118.export.CSV.zip', '20180117.export.CSV.zip', '20180116.export.CSV.zip', '20180115.export.CSV.zip', '20180114.export.CSV.zip', '20180113.export.CSV.zip', '20180112.export.CSV.zip', '20180111.export.CSV.zip', '20180110.export.CSV.zip', '20180109.export.CSV.zip', '20180108.export.CSV.zip', '20180107.export.CSV.zip', '20180106.export.CSV.zip', '20180105.export.CSV.zip', '20180104.export.CSV.zip', '20180103.export.CSV.zip', '20180102.export.CSV.zip', '20180101.export.CSV.zip', '20171231.export.CSV.zip', '20171230.export.CSV.zip', '20171229.export.CSV.zip', '20171228.export.CSV.zip', '20171227.export.CSV.zip', '20171226.export.CSV.zip', '20171225.export.CSV.zip', '20171224.export.CSV.zip', '20171223.export.CSV.zip', '20171222.export.CSV.zip', '20171221.export.CSV.zip', '20171220.export.CSV.zip', '20171219.export.CSV.zip', '20171218.export.CSV.zip', '20171217.export.CSV.zip', '20171216.export.CSV.zip', '20171215.export.CSV.zip', '20171214.export.CSV.zip', '20171213.export.CSV.zip', '20171212.export.CSV.zip', '20171211.export.CSV.zip', '20171210.export.CSV.zip', '20171209.export.CSV.zip', '20171208.export.CSV.zip', '20171207.export.CSV.zip', '20171206.export.CSV.zip', '20171205.export.CSV.zip', '20171204.export.CSV.zip', '20171203.export.CSV.zip', '20171202.export.CSV.zip', '20171201.export.CSV.zip', '20171130.export.CSV.zip', '20171129.export.CSV.zip', '20171128.export.CSV.zip', '20171127.export.CSV.zip', '20171126.export.CSV.zip', '20171125.export.CSV.zip', '20171124.export.CSV.zip', '20171123.export.CSV.zip', '20171122.export.CSV.zip', '20171121.export.CSV.zip', '20171120.export.CSV.zip', '20171119.export.CSV.zip', '20171118.export.CSV.zip', '20171117.export.CSV.zip', '20171116.export.CSV.zip', '20171115.export.CSV.zip', '20171114.export.CSV.zip', '20171113.export.CSV.zip', '20171112.export.CSV.zip', '20171111.export.CSV.zip', '20171110.export.CSV.zip', '20171109.export.CSV.zip', '20171108.export.CSV.zip', '20171107.export.CSV.zip', '20171106.export.CSV.zip', '20171105.export.CSV.zip', '20171104.export.CSV.zip', '20171103.export.CSV.zip', '20171102.export.CSV.zip', '20171101.export.CSV.zip', '20171031.export.CSV.zip', '20171030.export.CSV.zip', '20171029.export.CSV.zip', '20171028.export.CSV.zip', '20171027.export.CSV.zip', '20171026.export.CSV.zip', '20171025.export.CSV.zip', '20171024.export.CSV.zip', '20171023.export.CSV.zip', '20171022.export.CSV.zip', '20171021.export.CSV.zip', '20171020.export.CSV.zip', '20171019.export.CSV.zip', '20171018.export.CSV.zip', '20171017.export.CSV.zip', '20171016.export.CSV.zip', '20171015.export.CSV.zip', '20171014.export.CSV.zip', '20171013.export.CSV.zip', '20171012.export.CSV.zip', '20171011.export.CSV.zip', '20171010.export.CSV.zip', '20171009.export.CSV.zip', '20171008.export.CSV.zip', '20171007.export.CSV.zip', '20171006.export.CSV.zip', '20171005.export.CSV.zip', '20171004.export.CSV.zip', '20171003.export.CSV.zip', '20171002.export.CSV.zip', '20171001.export.CSV.zip', '20170930.export.CSV.zip', '20170929.export.CSV.zip', '20170928.export.CSV.zip', '20170927.export.CSV.zip', '20170926.export.CSV.zip', '20170925.export.CSV.zip', '20170924.export.CSV.zip', '20170923.export.CSV.zip', '20170922.export.CSV.zip', '20170921.export.CSV.zip', '20170920.export.CSV.zip', '20170919.export.CSV.zip', '20170918.export.CSV.zip', '20170917.export.CSV.zip', '20170916.export.CSV.zip', '20170915.export.CSV.zip', '20170914.export.CSV.zip', '20170913.export.CSV.zip', '20170912.export.CSV.zip', '20170911.export.CSV.zip', '20170910.export.CSV.zip', '20170909.export.CSV.zip', '20170908.export.CSV.zip', '20170907.export.CSV.zip', '20170906.export.CSV.zip', '20170905.export.CSV.zip', '20170904.export.CSV.zip', '20170903.export.CSV.zip', '20170902.export.CSV.zip', '20170901.export.CSV.zip', '20170831.export.CSV.zip', '20170830.export.CSV.zip', '20170829.export.CSV.zip', '20170828.export.CSV.zip', '20170827.export.CSV.zip', '20170826.export.CSV.zip', '20170825.export.CSV.zip', '20170824.export.CSV.zip', '20170823.export.CSV.zip', '20170822.export.CSV.zip', '20170821.export.CSV.zip', '20170820.export.CSV.zip', '20170819.export.CSV.zip', '20170818.export.CSV.zip', '20170817.export.CSV.zip', '20170816.export.CSV.zip', '20170815.export.CSV.zip', '20170814.export.CSV.zip', '20170813.export.CSV.zip', '20170812.export.CSV.zip', '20170811.export.CSV.zip', '20170810.export.CSV.zip', '20170809.export.CSV.zip', '20170808.export.CSV.zip', '20170807.export.CSV.zip', '20170806.export.CSV.zip', '20170805.export.CSV.zip', '20170804.export.CSV.zip', '20170803.export.CSV.zip', '20170802.export.CSV.zip', '20170801.export.CSV.zip', '20170731.export.CSV.zip', '20170730.export.CSV.zip', '20170729.export.CSV.zip', '20170728.export.CSV.zip', '20170727.export.CSV.zip', '20170726.export.CSV.zip', '20170725.export.CSV.zip', '20170724.export.CSV.zip', '20170723.export.CSV.zip', '20170722.export.CSV.zip', '20170721.export.CSV.zip', '20170720.export.CSV.zip', '20170719.export.CSV.zip', '20170718.export.CSV.zip', '20170717.export.CSV.zip', '20170716.export.CSV.zip', '20170715.export.CSV.zip', '20170714.export.CSV.zip', '20170713.export.CSV.zip', '20170712.export.CSV.zip', '20170711.export.CSV.zip', '20170710.export.CSV.zip', '20170709.export.CSV.zip', '20170708.export.CSV.zip', '20170707.export.CSV.zip', '20170706.export.CSV.zip', '20170705.export.CSV.zip', '20170704.export.CSV.zip', '20170703.export.CSV.zip', '20170702.export.CSV.zip', '20170701.export.CSV.zip', '20170630.export.CSV.zip', '20170629.export.CSV.zip', '20170628.export.CSV.zip', '20170627.export.CSV.zip', '20170626.export.CSV.zip', '20170625.export.CSV.zip', '20170624.export.CSV.zip', '20170623.export.CSV.zip', '20170622.export.CSV.zip', '20170621.export.CSV.zip', '20170620.export.CSV.zip', '20170619.export.CSV.zip', '20170618.export.CSV.zip', '20170617.export.CSV.zip', '20170616.export.CSV.zip', '20170615.export.CSV.zip', '20170614.export.CSV.zip', '20170613.export.CSV.zip', '20170612.export.CSV.zip', '20170611.export.CSV.zip', '20170610.export.CSV.zip', '20170609.export.CSV.zip', '20170608.export.CSV.zip', '20170607.export.CSV.zip', '20170606.export.CSV.zip', '20170605.export.CSV.zip', '20170604.export.CSV.zip', '20170603.export.CSV.zip', '20170602.export.CSV.zip', '20170601.export.CSV.zip', '20170531.export.CSV.zip', '20170530.export.CSV.zip', '20170529.export.CSV.zip', '20170528.export.CSV.zip', '20170527.export.CSV.zip', '20170526.export.CSV.zip', '20170525.export.CSV.zip', '20170524.export.CSV.zip', '20170523.export.CSV.zip', '20170522.export.CSV.zip', '20170521.export.CSV.zip', '20170520.export.CSV.zip', '20170519.export.CSV.zip', '20170518.export.CSV.zip', '20170517.export.CSV.zip', '20170516.export.CSV.zip', '20170515.export.CSV.zip', '20170514.export.CSV.zip', '20170513.export.CSV.zip', '20170512.export.CSV.zip', '20170511.export.CSV.zip', '20170510.export.CSV.zip', '20170509.export.CSV.zip', '20170508.export.CSV.zip', '20170507.export.CSV.zip', '20170506.export.CSV.zip', '20170505.export.CSV.zip', '20170504.export.CSV.zip', '20170503.export.CSV.zip', '20170502.export.CSV.zip', '20170501.export.CSV.zip', '20170430.export.CSV.zip', '20170429.export.CSV.zip', '20170428.export.CSV.zip', '20170427.export.CSV.zip', '20170426.export.CSV.zip', '20170425.export.CSV.zip', '20170424.export.CSV.zip', '20170423.export.CSV.zip', '20170422.export.CSV.zip', '20170421.export.CSV.zip', '20170420.export.CSV.zip', '20170419.export.CSV.zip', '20170418.export.CSV.zip', '20170417.export.CSV.zip', '20170416.export.CSV.zip', '20170415.export.CSV.zip', '20170414.export.CSV.zip', '20170413.export.CSV.zip', '20170412.export.CSV.zip', '20170411.export.CSV.zip', '20170410.export.CSV.zip', '20170409.export.CSV.zip', '20170408.export.CSV.zip', '20170407.export.CSV.zip', '20170406.export.CSV.zip', '20170405.export.CSV.zip', '20170404.export.CSV.zip', '20170403.export.CSV.zip', '20170402.export.CSV.zip', '20170401.export.CSV.zip', '20170331.export.CSV.zip', '20170330.export.CSV.zip', '20170329.export.CSV.zip', '20170328.export.CSV.zip', '20170327.export.CSV.zip', '20170326.export.CSV.zip', '20170325.export.CSV.zip', '20170324.export.CSV.zip', '20170323.export.CSV.zip', '20170322.export.CSV.zip', '20170321.export.CSV.zip', '20170320.export.CSV.zip', '20170319.export.CSV.zip', '20170318.export.CSV.zip', '20170317.export.CSV.zip', '20170316.export.CSV.zip', '20170315.export.CSV.zip', '20170314.export.CSV.zip', '20170313.export.CSV.zip', '20170312.export.CSV.zip', '20170311.export.CSV.zip', '20170310.export.CSV.zip', '20170309.export.CSV.zip', '20170308.export.CSV.zip', '20170307.export.CSV.zip', '20170306.export.CSV.zip', '20170305.export.CSV.zip', '20170304.export.CSV.zip', '20170303.export.CSV.zip', '20170302.export.CSV.zip', '20170301.export.CSV.zip', '20170228.export.CSV.zip', '20170227.export.CSV.zip', '20170226.export.CSV.zip', '20170225.export.CSV.zip', '20170224.export.CSV.zip', '20170223.export.CSV.zip', '20170222.export.CSV.zip', '20170221.export.CSV.zip', '20170220.export.CSV.zip', '20170219.export.CSV.zip', '20170218.export.CSV.zip', '20170217.export.CSV.zip', '20170216.export.CSV.zip', '20170215.export.CSV.zip', '20170214.export.CSV.zip', '20170213.export.CSV.zip', '20170212.export.CSV.zip', '20170211.export.CSV.zip', '20170210.export.CSV.zip', '20170209.export.CSV.zip', '20170208.export.CSV.zip', '20170207.export.CSV.zip', '20170206.export.CSV.zip', '20170205.export.CSV.zip', '20170204.export.CSV.zip', '20170203.export.CSV.zip', '20170202.export.CSV.zip', '20170201.export.CSV.zip', '20170131.export.CSV.zip', '20170130.export.CSV.zip', '20170129.export.CSV.zip', '20170128.export.CSV.zip', '20170127.export.CSV.zip', '20170126.export.CSV.zip', '20170125.export.CSV.zip', '20170124.export.CSV.zip', '20170123.export.CSV.zip', '20170122.export.CSV.zip', '20170121.export.CSV.zip', '20170120.export.CSV.zip', '20170119.export.CSV.zip', '20170118.export.CSV.zip', '20170117.export.CSV.zip', '20170116.export.CSV.zip', '20170115.export.CSV.zip', '20170114.export.CSV.zip', '20170113.export.CSV.zip', '20170112.export.CSV.zip', '20170111.export.CSV.zip', '20170110.export.CSV.zip', '20170109.export.CSV.zip', '20170108.export.CSV.zip', '20170107.export.CSV.zip', '20170106.export.CSV.zip', '20170105.export.CSV.zip', '20170104.export.CSV.zip', '20170103.export.CSV.zip', '20170102.export.CSV.zip', '20170101.export.CSV.zip', '20161231.export.CSV.zip', '20161230.export.CSV.zip', '20161229.export.CSV.zip', '20161228.export.CSV.zip', '20161227.export.CSV.zip', '20161226.export.CSV.zip', '20161225.export.CSV.zip', '20161224.export.CSV.zip', '20161223.export.CSV.zip', '20161222.export.CSV.zip', '20161221.export.CSV.zip', '20161220.export.CSV.zip', '20161219.export.CSV.zip', '20161218.export.CSV.zip', '20161217.export.CSV.zip', '20161216.export.CSV.zip', '20161215.export.CSV.zip', '20161214.export.CSV.zip', '20161213.export.CSV.zip', '20161212.export.CSV.zip', '20161211.export.CSV.zip', '20161210.export.CSV.zip', '20161209.export.CSV.zip', '20161208.export.CSV.zip', '20161207.export.CSV.zip', '20161206.export.CSV.zip', '20161205.export.CSV.zip', '20161204.export.CSV.zip', '20161203.export.CSV.zip', '20161202.export.CSV.zip', '20161201.export.CSV.zip', '20161130.export.CSV.zip', '20161129.export.CSV.zip', '20161128.export.CSV.zip', '20161127.export.CSV.zip', '20161126.export.CSV.zip', '20161125.export.CSV.zip', '20161124.export.CSV.zip', '20161123.export.CSV.zip', '20161122.export.CSV.zip', '20161121.export.CSV.zip', '20161120.export.CSV.zip', '20161119.export.CSV.zip', '20161118.export.CSV.zip', '20161117.export.CSV.zip', '20161116.export.CSV.zip', '20161115.export.CSV.zip', '20161114.export.CSV.zip', '20161113.export.CSV.zip', '20161112.export.CSV.zip', '20161111.export.CSV.zip', '20161110.export.CSV.zip', '20161109.export.CSV.zip', '20161108.export.CSV.zip', '20161107.export.CSV.zip', '20161106.export.CSV.zip', '20161105.export.CSV.zip', '20161104.export.CSV.zip', '20161103.export.CSV.zip', '20161102.export.CSV.zip', '20161101.export.CSV.zip', '20161031.export.CSV.zip', '20161030.export.CSV.zip', '20161029.export.CSV.zip', '20161028.export.CSV.zip', '20161027.export.CSV.zip', '20161026.export.CSV.zip', '20161025.export.CSV.zip', '20161024.export.CSV.zip', '20161023.export.CSV.zip', '20161022.export.CSV.zip', '20161021.export.CSV.zip', '20161020.export.CSV.zip', '20161019.export.CSV.zip', '20161018.export.CSV.zip', '20161017.export.CSV.zip', '20161016.export.CSV.zip', '20161015.export.CSV.zip', '20161014.export.CSV.zip', '20161013.export.CSV.zip', '20161012.export.CSV.zip', '20161011.export.CSV.zip', '20161010.export.CSV.zip', '20161009.export.CSV.zip', '20161008.export.CSV.zip', '20161007.export.CSV.zip', '20161006.export.CSV.zip', '20161005.export.CSV.zip', '20161004.export.CSV.zip', '20161003.export.CSV.zip', '20161002.export.CSV.zip', '20161001.export.CSV.zip', '20160930.export.CSV.zip', '20160929.export.CSV.zip', '20160928.export.CSV.zip', '20160927.export.CSV.zip', '20160926.export.CSV.zip', '20160925.export.CSV.zip', '20160924.export.CSV.zip', '20160923.export.CSV.zip', '20160922.export.CSV.zip', '20160921.export.CSV.zip', '20160920.export.CSV.zip', '20160919.export.CSV.zip', '20160918.export.CSV.zip', '20160917.export.CSV.zip', '20160916.export.CSV.zip', '20160915.export.CSV.zip', '20160914.export.CSV.zip', '20160913.export.CSV.zip', '20160912.export.CSV.zip', '20160911.export.CSV.zip', '20160910.export.CSV.zip', '20160909.export.CSV.zip', '20160908.export.CSV.zip', '20160907.export.CSV.zip', '20160906.export.CSV.zip', '20160905.export.CSV.zip', '20160904.export.CSV.zip', '20160903.export.CSV.zip', '20160902.export.CSV.zip', '20160901.export.CSV.zip', '20160831.export.CSV.zip', '20160830.export.CSV.zip', '20160829.export.CSV.zip', '20160828.export.CSV.zip', '20160827.export.CSV.zip', '20160826.export.CSV.zip', '20160825.export.CSV.zip', '20160824.export.CSV.zip', '20160823.export.CSV.zip', '20160822.export.CSV.zip', '20160821.export.CSV.zip', '20160820.export.CSV.zip', '20160819.export.CSV.zip', '20160818.export.CSV.zip', '20160817.export.CSV.zip', '20160816.export.CSV.zip', '20160815.export.CSV.zip', '20160814.export.CSV.zip', '20160813.export.CSV.zip', '20160812.export.CSV.zip', '20160811.export.CSV.zip', '20160810.export.CSV.zip', '20160809.export.CSV.zip', '20160808.export.CSV.zip', '20160807.export.CSV.zip', '20160806.export.CSV.zip', '20160805.export.CSV.zip', '20160804.export.CSV.zip', '20160803.export.CSV.zip', '20160802.export.CSV.zip', '20160801.export.CSV.zip', '20160731.export.CSV.zip', '20160730.export.CSV.zip', '20160729.export.CSV.zip', '20160728.export.CSV.zip', '20160727.export.CSV.zip', '20160726.export.CSV.zip', '20160725.export.CSV.zip', '20160724.export.CSV.zip', '20160723.export.CSV.zip', '20160722.export.CSV.zip', '20160721.export.CSV.zip', '20160720.export.CSV.zip', '20160719.export.CSV.zip', '20160718.export.CSV.zip', '20160717.export.CSV.zip', '20160716.export.CSV.zip', '20160715.export.CSV.zip', '20160714.export.CSV.zip', '20160713.export.CSV.zip', '20160712.export.CSV.zip', '20160711.export.CSV.zip', '20160710.export.CSV.zip', '20160709.export.CSV.zip', '20160708.export.CSV.zip', '20160707.export.CSV.zip', '20160706.export.CSV.zip', '20160705.export.CSV.zip', '20160704.export.CSV.zip', '20160703.export.CSV.zip', '20160702.export.CSV.zip', '20160701.export.CSV.zip', '20160630.export.CSV.zip', '20160629.export.CSV.zip', '20160628.export.CSV.zip', '20160627.export.CSV.zip', '20160626.export.CSV.zip', '20160625.export.CSV.zip', '20160624.export.CSV.zip', '20160623.export.CSV.zip', '20160622.export.CSV.zip', '20160621.export.CSV.zip', '20160620.export.CSV.zip', '20160619.export.CSV.zip', '20160618.export.CSV.zip', '20160617.export.CSV.zip', '20160616.export.CSV.zip', '20160615.export.CSV.zip', '20160614.export.CSV.zip', '20160613.export.CSV.zip', '20160612.export.CSV.zip', '20160611.export.CSV.zip', '20160610.export.CSV.zip', '20160609.export.CSV.zip', '20160608.export.CSV.zip', '20160607.export.CSV.zip', '20160606.export.CSV.zip', '20160605.export.CSV.zip', '20160604.export.CSV.zip', '20160603.export.CSV.zip', '20160602.export.CSV.zip', '20160601.export.CSV.zip', '20160531.export.CSV.zip', '20160530.export.CSV.zip', '20160529.export.CSV.zip', '20160528.export.CSV.zip', '20160527.export.CSV.zip', '20160526.export.CSV.zip', '20160525.export.CSV.zip', '20160524.export.CSV.zip', '20160523.export.CSV.zip', '20160522.export.CSV.zip', '20160521.export.CSV.zip', '20160520.export.CSV.zip', '20160519.export.CSV.zip', '20160518.export.CSV.zip', '20160517.export.CSV.zip', '20160516.export.CSV.zip', '20160515.export.CSV.zip', '20160514.export.CSV.zip', '20160513.export.CSV.zip', '20160512.export.CSV.zip', '20160511.export.CSV.zip', '20160510.export.CSV.zip', '20160509.export.CSV.zip', '20160508.export.CSV.zip', '20160507.export.CSV.zip', '20160506.export.CSV.zip', '20160505.export.CSV.zip', '20160504.export.CSV.zip', '20160503.export.CSV.zip', '20160502.export.CSV.zip', '20160501.export.CSV.zip', '20160430.export.CSV.zip', '20160429.export.CSV.zip', '20160428.export.CSV.zip', '20160427.export.CSV.zip', '20160426.export.CSV.zip', '20160425.export.CSV.zip', '20160424.export.CSV.zip', '20160423.export.CSV.zip', '20160422.export.CSV.zip', '20160421.export.CSV.zip', '20160420.export.CSV.zip', '20160419.export.CSV.zip', '20160418.export.CSV.zip', '20160417.export.CSV.zip', '20160416.export.CSV.zip', '20160415.export.CSV.zip', '20160414.export.CSV.zip', '20160413.export.CSV.zip', '20160412.export.CSV.zip', '20160411.export.CSV.zip', '20160410.export.CSV.zip', '20160409.export.CSV.zip', '20160408.export.CSV.zip', '20160407.export.CSV.zip', '20160406.export.CSV.zip', '20160405.export.CSV.zip', '20160404.export.CSV.zip', '20160403.export.CSV.zip', '20160402.export.CSV.zip', '20160401.export.CSV.zip', '20160331.export.CSV.zip', '20160330.export.CSV.zip', '20160329.export.CSV.zip', '20160328.export.CSV.zip', '20160327.export.CSV.zip', '20160326.export.CSV.zip', '20160325.export.CSV.zip', '20160324.export.CSV.zip', '20160323.export.CSV.zip', '20160322.export.CSV.zip', '20160321.export.CSV.zip', '20160320.export.CSV.zip', '20160319.export.CSV.zip', '20160318.export.CSV.zip', '20160317.export.CSV.zip', '20160316.export.CSV.zip', '20160315.export.CSV.zip', '20160314.export.CSV.zip', '20160313.export.CSV.zip', '20160312.export.CSV.zip', '20160311.export.CSV.zip', '20160310.export.CSV.zip', '20160309.export.CSV.zip', '20160308.export.CSV.zip', '20160307.export.CSV.zip', '20160306.export.CSV.zip', '20160305.export.CSV.zip', '20160304.export.CSV.zip', '20160303.export.CSV.zip', '20160302.export.CSV.zip', '20160301.export.CSV.zip', '20160229.export.CSV.zip', '20160228.export.CSV.zip', '20160227.export.CSV.zip', '20160226.export.CSV.zip', '20160225.export.CSV.zip', '20160224.export.CSV.zip', '20160223.export.CSV.zip', '20160222.export.CSV.zip', '20160221.export.CSV.zip', '20160220.export.CSV.zip', '20160219.export.CSV.zip', '20160218.export.CSV.zip', '20160217.export.CSV.zip', '20160216.export.CSV.zip', '20160215.export.CSV.zip', '20160214.export.CSV.zip', '20160213.export.CSV.zip', '20160212.export.CSV.zip', '20160211.export.CSV.zip', '20160210.export.CSV.zip', '20160209.export.CSV.zip', '20160208.export.CSV.zip', '20160207.export.CSV.zip', '20160206.export.CSV.zip', '20160205.export.CSV.zip', '20160204.export.CSV.zip', '20160203.export.CSV.zip', '20160202.export.CSV.zip', '20160201.export.CSV.zip', '20160131.export.CSV.zip', '20160130.export.CSV.zip', '20160129.export.CSV.zip', '20160128.export.CSV.zip', '20160127.export.CSV.zip', '20160126.export.CSV.zip', '20160125.export.CSV.zip', '20160124.export.CSV.zip', '20160123.export.CSV.zip', '20160122.export.CSV.zip', '20160121.export.CSV.zip', '20160120.export.CSV.zip', '20160119.export.CSV.zip', '20160118.export.CSV.zip', '20160117.export.CSV.zip', '20160116.export.CSV.zip', '20160115.export.CSV.zip', '20160114.export.CSV.zip', '20160113.export.CSV.zip', '20160112.export.CSV.zip', '20160111.export.CSV.zip', '20160110.export.CSV.zip', '20160109.export.CSV.zip', '20160108.export.CSV.zip', '20160107.export.CSV.zip', '20160106.export.CSV.zip', '20160105.export.CSV.zip', '20160104.export.CSV.zip', '20160103.export.CSV.zip', '20160102.export.CSV.zip', '20160101.export.CSV.zip', '20151231.export.CSV.zip', '20151230.export.CSV.zip', '20151229.export.CSV.zip', '20151228.export.CSV.zip', '20151227.export.CSV.zip', '20151226.export.CSV.zip', '20151225.export.CSV.zip', '20151224.export.CSV.zip', '20151223.export.CSV.zip', '20151222.export.CSV.zip', '20151221.export.CSV.zip', '20151220.export.CSV.zip', '20151219.export.CSV.zip', '20151218.export.CSV.zip', '20151217.export.CSV.zip', '20151216.export.CSV.zip', '20151215.export.CSV.zip', '20151214.export.CSV.zip', '20151213.export.CSV.zip', '20151212.export.CSV.zip', '20151211.export.CSV.zip', '20151210.export.CSV.zip', '20151209.export.CSV.zip', '20151208.export.CSV.zip', '20151207.export.CSV.zip', '20151206.export.CSV.zip', '20151205.export.CSV.zip', '20151204.export.CSV.zip', '20151203.export.CSV.zip', '20151202.export.CSV.zip', '20151201.export.CSV.zip', '20151130.export.CSV.zip', '20151129.export.CSV.zip', '20151128.export.CSV.zip', '20151127.export.CSV.zip', '20151126.export.CSV.zip', '20151125.export.CSV.zip', '20151124.export.CSV.zip', '20151123.export.CSV.zip', '20151122.export.CSV.zip', '20151121.export.CSV.zip', '20151120.export.CSV.zip', '20151119.export.CSV.zip', '20151118.export.CSV.zip', '20151117.export.CSV.zip', '20151116.export.CSV.zip', '20151115.export.CSV.zip', '20151114.export.CSV.zip', '20151113.export.CSV.zip', '20151112.export.CSV.zip', '20151111.export.CSV.zip', '20151110.export.CSV.zip', '20151109.export.CSV.zip', '20151108.export.CSV.zip', '20151107.export.CSV.zip', '20151106.export.CSV.zip', '20151105.export.CSV.zip', '20151104.export.CSV.zip', '20151103.export.CSV.zip', '20151102.export.CSV.zip', '20151101.export.CSV.zip', '20151031.export.CSV.zip', '20151030.export.CSV.zip', '20151029.export.CSV.zip', '20151028.export.CSV.zip', '20151027.export.CSV.zip', '20151026.export.CSV.zip', '20151025.export.CSV.zip', '20151024.export.CSV.zip', '20151023.export.CSV.zip', '20151022.export.CSV.zip', '20151021.export.CSV.zip', '20151020.export.CSV.zip', '20151019.export.CSV.zip', '20151018.export.CSV.zip', '20151017.export.CSV.zip', '20151016.export.CSV.zip', '20151015.export.CSV.zip', '20151014.export.CSV.zip', '20151013.export.CSV.zip', '20151012.export.CSV.zip', '20151011.export.CSV.zip', '20151010.export.CSV.zip', '20151009.export.CSV.zip', '20151008.export.CSV.zip', '20151007.export.CSV.zip', '20151006.export.CSV.zip', '20151005.export.CSV.zip', '20151004.export.CSV.zip', '20151003.export.CSV.zip', '20151002.export.CSV.zip', '20151001.export.CSV.zip', '20150930.export.CSV.zip', '20150929.export.CSV.zip', '20150928.export.CSV.zip', '20150927.export.CSV.zip', '20150926.export.CSV.zip', '20150925.export.CSV.zip', '20150924.export.CSV.zip', '20150923.export.CSV.zip', '20150922.export.CSV.zip', '20150921.export.CSV.zip', '20150920.export.CSV.zip', '20150919.export.CSV.zip', '20150918.export.CSV.zip', '20150917.export.CSV.zip', '20150916.export.CSV.zip', '20150915.export.CSV.zip', '20150914.export.CSV.zip', '20150913.export.CSV.zip', '20150912.export.CSV.zip', '20150911.export.CSV.zip', '20150910.export.CSV.zip', '20150909.export.CSV.zip', '20150908.export.CSV.zip', '20150907.export.CSV.zip', '20150906.export.CSV.zip', '20150905.export.CSV.zip', '20150904.export.CSV.zip', '20150903.export.CSV.zip', '20150902.export.CSV.zip', '20150901.export.CSV.zip', '20150831.export.CSV.zip', '20150830.export.CSV.zip', '20150829.export.CSV.zip', '20150828.export.CSV.zip', '20150827.export.CSV.zip', '20150826.export.CSV.zip', '20150825.export.CSV.zip', '20150824.export.CSV.zip', '20150823.export.CSV.zip', '20150822.export.CSV.zip', '20150821.export.CSV.zip', '20150820.export.CSV.zip', '20150819.export.CSV.zip', '20150818.export.CSV.zip', '20150817.export.CSV.zip', '20150816.export.CSV.zip', '20150815.export.CSV.zip', '20150814.export.CSV.zip', '20150813.export.CSV.zip', '20150812.export.CSV.zip', '20150811.export.CSV.zip', '20150810.export.CSV.zip', '20150809.export.CSV.zip', '20150808.export.CSV.zip', '20150807.export.CSV.zip', '20150806.export.CSV.zip', '20150805.export.CSV.zip', '20150804.export.CSV.zip', '20150803.export.CSV.zip', '20150802.export.CSV.zip', '20150801.export.CSV.zip', '20150731.export.CSV.zip', '20150730.export.CSV.zip', '20150729.export.CSV.zip', '20150728.export.CSV.zip', '20150727.export.CSV.zip', '20150726.export.CSV.zip', '20150725.export.CSV.zip', '20150724.export.CSV.zip', '20150723.export.CSV.zip', '20150722.export.CSV.zip', '20150721.export.CSV.zip', '20150720.export.CSV.zip', '20150719.export.CSV.zip', '20150718.export.CSV.zip', '20150717.export.CSV.zip', '20150716.export.CSV.zip', '20150715.export.CSV.zip', '20150714.export.CSV.zip', '20150713.export.CSV.zip', '20150712.export.CSV.zip', '20150711.export.CSV.zip', '20150710.export.CSV.zip', '20150709.export.CSV.zip', '20150708.export.CSV.zip', '20150707.export.CSV.zip', '20150706.export.CSV.zip', '20150705.export.CSV.zip', '20150704.export.CSV.zip', '20150703.export.CSV.zip', '20150702.export.CSV.zip', '20150701.export.CSV.zip', '20150630.export.CSV.zip', '20150629.export.CSV.zip', '20150628.export.CSV.zip', '20150627.export.CSV.zip', '20150626.export.CSV.zip', '20150625.export.CSV.zip', '20150624.export.CSV.zip', '20150623.export.CSV.zip', '20150622.export.CSV.zip', '20150621.export.CSV.zip', '20150620.export.CSV.zip', '20150619.export.CSV.zip', '20150618.export.CSV.zip', '20150617.export.CSV.zip', '20150616.export.CSV.zip', '20150615.export.CSV.zip', '20150614.export.CSV.zip', '20150613.export.CSV.zip', '20150612.export.CSV.zip', '20150611.export.CSV.zip', '20150610.export.CSV.zip', '20150609.export.CSV.zip', '20150608.export.CSV.zip', '20150607.export.CSV.zip', '20150606.export.CSV.zip', '20150605.export.CSV.zip', '20150604.export.CSV.zip', '20150603.export.CSV.zip', '20150602.export.CSV.zip', '20150601.export.CSV.zip', '20150531.export.CSV.zip', '20150530.export.CSV.zip', '20150529.export.CSV.zip', '20150528.export.CSV.zip', '20150527.export.CSV.zip', '20150526.export.CSV.zip', '20150525.export.CSV.zip', '20150524.export.CSV.zip', '20150523.export.CSV.zip', '20150522.export.CSV.zip', '20150521.export.CSV.zip', '20150520.export.CSV.zip', '20150519.export.CSV.zip', '20150518.export.CSV.zip', '20150517.export.CSV.zip', '20150516.export.CSV.zip', '20150515.export.CSV.zip', '20150514.export.CSV.zip', '20150513.export.CSV.zip', '20150512.export.CSV.zip', '20150511.export.CSV.zip', '20150510.export.CSV.zip', '20150509.export.CSV.zip', '20150508.export.CSV.zip', '20150507.export.CSV.zip', '20150506.export.CSV.zip', '20150505.export.CSV.zip', '20150504.export.CSV.zip', '20150503.export.CSV.zip', '20150502.export.CSV.zip', '20150501.export.CSV.zip', '20150430.export.CSV.zip', '20150429.export.CSV.zip', '20150428.export.CSV.zip', '20150427.export.CSV.zip', '20150426.export.CSV.zip', '20150425.export.CSV.zip', '20150424.export.CSV.zip', '20150423.export.CSV.zip', '20150422.export.CSV.zip', '20150421.export.CSV.zip', '20150420.export.CSV.zip', '20150419.export.CSV.zip', '20150418.export.CSV.zip', '20150417.export.CSV.zip', '20150416.export.CSV.zip', '20150415.export.CSV.zip', '20150414.export.CSV.zip', '20150413.export.CSV.zip', '20150412.export.CSV.zip', '20150411.export.CSV.zip', '20150410.export.CSV.zip', '20150409.export.CSV.zip', '20150408.export.CSV.zip', '20150407.export.CSV.zip', '20150406.export.CSV.zip', '20150405.export.CSV.zip', '20150404.export.CSV.zip', '20150403.export.CSV.zip', '20150402.export.CSV.zip', '20150401.export.CSV.zip', '20150331.export.CSV.zip', '20150330.export.CSV.zip', '20150329.export.CSV.zip', '20150328.export.CSV.zip', '20150327.export.CSV.zip', '20150326.export.CSV.zip', '20150325.export.CSV.zip', '20150324.export.CSV.zip', '20150323.export.CSV.zip', '20150322.export.CSV.zip', '20150321.export.CSV.zip', '20150320.export.CSV.zip', '20150319.export.CSV.zip', '20150318.export.CSV.zip', '20150317.export.CSV.zip', '20150316.export.CSV.zip', '20150315.export.CSV.zip', '20150314.export.CSV.zip', '20150313.export.CSV.zip', '20150312.export.CSV.zip', '20150311.export.CSV.zip', '20150310.export.CSV.zip', '20150309.export.CSV.zip', '20150308.export.CSV.zip', '20150307.export.CSV.zip', '20150306.export.CSV.zip', '20150305.export.CSV.zip', '20150304.export.CSV.zip', '20150303.export.CSV.zip', '20150302.export.CSV.zip', '20150301.export.CSV.zip', '20150228.export.CSV.zip', '20150227.export.CSV.zip', '20150226.export.CSV.zip', '20150225.export.CSV.zip', '20150224.export.CSV.zip', '20150223.export.CSV.zip', '20150222.export.CSV.zip', '20150221.export.CSV.zip', '20150220.export.CSV.zip', '20150219.export.CSV.zip', '20150218.export.CSV.zip', '20150217.export.CSV.zip', '20150216.export.CSV.zip', '20150215.export.CSV.zip', '20150214.export.CSV.zip', '20150213.export.CSV.zip', '20150212.export.CSV.zip', '20150211.export.CSV.zip', '20150210.export.CSV.zip', '20150209.export.CSV.zip', '20150208.export.CSV.zip', '20150207.export.CSV.zip', '20150206.export.CSV.zip', '20150205.export.CSV.zip', '20150204.export.CSV.zip', '20150203.export.CSV.zip', '20150202.export.CSV.zip', '20150201.export.CSV.zip', '20150131.export.CSV.zip', '20150130.export.CSV.zip', '20150129.export.CSV.zip', '20150128.export.CSV.zip', '20150127.export.CSV.zip', '20150126.export.CSV.zip', '20150125.export.CSV.zip', '20150124.export.CSV.zip', '20150123.export.CSV.zip', '20150122.export.CSV.zip', '20150121.export.CSV.zip', '20150120.export.CSV.zip', '20150119.export.CSV.zip', '20150118.export.CSV.zip', '20150117.export.CSV.zip', '20150116.export.CSV.zip', '20150115.export.CSV.zip', '20150114.export.CSV.zip', '20150113.export.CSV.zip', '20150112.export.CSV.zip', '20150111.export.CSV.zip', '20150110.export.CSV.zip', '20150109.export.CSV.zip', '20150108.export.CSV.zip', '20150107.export.CSV.zip', '20150106.export.CSV.zip', '20150105.export.CSV.zip', '20150104.export.CSV.zip', '20150103.export.CSV.zip', '20150102.export.CSV.zip', '20150101.export.CSV.zip', '20141231.export.CSV.zip', '20141230.export.CSV.zip', '20141229.export.CSV.zip', '20141228.export.CSV.zip', '20141227.export.CSV.zip', '20141226.export.CSV.zip', '20141225.export.CSV.zip', '20141224.export.CSV.zip', '20141223.export.CSV.zip', '20141222.export.CSV.zip', '20141221.export.CSV.zip', '20141220.export.CSV.zip', '20141219.export.CSV.zip', '20141218.export.CSV.zip', '20141217.export.CSV.zip', '20141216.export.CSV.zip', '20141215.export.CSV.zip', '20141214.export.CSV.zip', '20141213.export.CSV.zip', '20141212.export.CSV.zip', '20141211.export.CSV.zip', '20141210.export.CSV.zip', '20141209.export.CSV.zip', '20141208.export.CSV.zip', '20141207.export.CSV.zip', '20141206.export.CSV.zip', '20141205.export.CSV.zip', '20141204.export.CSV.zip', '20141203.export.CSV.zip', '20141202.export.CSV.zip', '20141201.export.CSV.zip', '20141130.export.CSV.zip', '20141129.export.CSV.zip', '20141128.export.CSV.zip', '20141127.export.CSV.zip', '20141126.export.CSV.zip', '20141125.export.CSV.zip', '20141124.export.CSV.zip', '20141123.export.CSV.zip', '20141122.export.CSV.zip', '20141121.export.CSV.zip', '20141120.export.CSV.zip', '20141119.export.CSV.zip', '20141118.export.CSV.zip', '20141117.export.CSV.zip', '20141116.export.CSV.zip', '20141115.export.CSV.zip', '20141114.export.CSV.zip', '20141113.export.CSV.zip', '20141112.export.CSV.zip', '20141111.export.CSV.zip', '20141110.export.CSV.zip', '20141109.export.CSV.zip', '20141108.export.CSV.zip', '20141107.export.CSV.zip', '20141106.export.CSV.zip', '20141105.export.CSV.zip', '20141104.export.CSV.zip', '20141103.export.CSV.zip', '20141102.export.CSV.zip', '20141101.export.CSV.zip', '20141031.export.CSV.zip', '20141030.export.CSV.zip', '20141029.export.CSV.zip', '20141028.export.CSV.zip', '20141027.export.CSV.zip', '20141026.export.CSV.zip', '20141025.export.CSV.zip', '20141024.export.CSV.zip', '20141023.export.CSV.zip', '20141022.export.CSV.zip', '20141021.export.CSV.zip', '20141020.export.CSV.zip', '20141019.export.CSV.zip', '20141018.export.CSV.zip', '20141017.export.CSV.zip', '20141016.export.CSV.zip', '20141015.export.CSV.zip', '20141014.export.CSV.zip', '20141013.export.CSV.zip', '20141012.export.CSV.zip', '20141011.export.CSV.zip', '20141010.export.CSV.zip', '20141009.export.CSV.zip', '20141008.export.CSV.zip', '20141007.export.CSV.zip', '20141006.export.CSV.zip', '20141005.export.CSV.zip', '20141004.export.CSV.zip', '20141003.export.CSV.zip', '20141002.export.CSV.zip', '20141001.export.CSV.zip', '20140930.export.CSV.zip', '20140929.export.CSV.zip', '20140928.export.CSV.zip', '20140927.export.CSV.zip', '20140926.export.CSV.zip', '20140925.export.CSV.zip', '20140924.export.CSV.zip', '20140923.export.CSV.zip', '20140922.export.CSV.zip', '20140921.export.CSV.zip', '20140920.export.CSV.zip', '20140919.export.CSV.zip', '20140918.export.CSV.zip', '20140917.export.CSV.zip', '20140916.export.CSV.zip', '20140915.export.CSV.zip', '20140914.export.CSV.zip', '20140913.export.CSV.zip', '20140912.export.CSV.zip', '20140911.export.CSV.zip', '20140910.export.CSV.zip', '20140909.export.CSV.zip', '20140908.export.CSV.zip', '20140907.export.CSV.zip', '20140906.export.CSV.zip', '20140905.export.CSV.zip', '20140904.export.CSV.zip', '20140903.export.CSV.zip', '20140902.export.CSV.zip', '20140901.export.CSV.zip', '20140831.export.CSV.zip', '20140830.export.CSV.zip', '20140829.export.CSV.zip', '20140828.export.CSV.zip', '20140827.export.CSV.zip', '20140826.export.CSV.zip', '20140825.export.CSV.zip', '20140824.export.CSV.zip', '20140823.export.CSV.zip', '20140822.export.CSV.zip', '20140821.export.CSV.zip', '20140820.export.CSV.zip', '20140819.export.CSV.zip', '20140818.export.CSV.zip', '20140817.export.CSV.zip', '20140816.export.CSV.zip', '20140815.export.CSV.zip', '20140814.export.CSV.zip', '20140813.export.CSV.zip', '20140812.export.CSV.zip', '20140811.export.CSV.zip', '20140810.export.CSV.zip', '20140809.export.CSV.zip', '20140808.export.CSV.zip', '20140807.export.CSV.zip', '20140806.export.CSV.zip', '20140805.export.CSV.zip', '20140804.export.CSV.zip', '20140803.export.CSV.zip', '20140802.export.CSV.zip', '20140801.export.CSV.zip', '20140731.export.CSV.zip', '20140730.export.CSV.zip', '20140729.export.CSV.zip', '20140728.export.CSV.zip', '20140727.export.CSV.zip', '20140726.export.CSV.zip', '20140725.export.CSV.zip', '20140724.export.CSV.zip', '20140723.export.CSV.zip', '20140722.export.CSV.zip', '20140721.export.CSV.zip', '20140720.export.CSV.zip', '20140719.export.CSV.zip', '20140718.export.CSV.zip', '20140717.export.CSV.zip', '20140716.export.CSV.zip', '20140715.export.CSV.zip', '20140714.export.CSV.zip', '20140713.export.CSV.zip', '20140712.export.CSV.zip', '20140711.export.CSV.zip', '20140710.export.CSV.zip', '20140709.export.CSV.zip', '20140708.export.CSV.zip', '20140707.export.CSV.zip', '20140706.export.CSV.zip', '20140705.export.CSV.zip', '20140704.export.CSV.zip', '20140703.export.CSV.zip', '20140702.export.CSV.zip', '20140701.export.CSV.zip', '20140630.export.CSV.zip', '20140629.export.CSV.zip', '20140628.export.CSV.zip', '20140627.export.CSV.zip', '20140626.export.CSV.zip', '20140625.export.CSV.zip', '20140624.export.CSV.zip', '20140623.export.CSV.zip', '20140622.export.CSV.zip', '20140621.export.CSV.zip', '20140620.export.CSV.zip', '20140619.export.CSV.zip', '20140618.export.CSV.zip', '20140617.export.CSV.zip', '20140616.export.CSV.zip', '20140615.export.CSV.zip', '20140614.export.CSV.zip', '20140613.export.CSV.zip', '20140612.export.CSV.zip', '20140611.export.CSV.zip', '20140610.export.CSV.zip', '20140609.export.CSV.zip', '20140608.export.CSV.zip', '20140607.export.CSV.zip', '20140606.export.CSV.zip', '20140605.export.CSV.zip', '20140604.export.CSV.zip', '20140603.export.CSV.zip', '20140602.export.CSV.zip', '20140601.export.CSV.zip', '20140531.export.CSV.zip', '20140530.export.CSV.zip', '20140529.export.CSV.zip', '20140528.export.CSV.zip', '20140527.export.CSV.zip', '20140526.export.CSV.zip', '20140525.export.CSV.zip', '20140524.export.CSV.zip', '20140523.export.CSV.zip', '20140522.export.CSV.zip', '20140521.export.CSV.zip', '20140520.export.CSV.zip', '20140519.export.CSV.zip', '20140518.export.CSV.zip', '20140517.export.CSV.zip', '20140516.export.CSV.zip', '20140515.export.CSV.zip', '20140514.export.CSV.zip', '20140513.export.CSV.zip', '20140512.export.CSV.zip', '20140511.export.CSV.zip', '20140510.export.CSV.zip', '20140509.export.CSV.zip', '20140508.export.CSV.zip', '20140507.export.CSV.zip', '20140506.export.CSV.zip', '20140505.export.CSV.zip', '20140504.export.CSV.zip', '20140503.export.CSV.zip', '20140502.export.CSV.zip', '20140501.export.CSV.zip', '20140430.export.CSV.zip', '20140429.export.CSV.zip', '20140428.export.CSV.zip', '20140427.export.CSV.zip', '20140426.export.CSV.zip', '20140425.export.CSV.zip', '20140424.export.CSV.zip', '20140423.export.CSV.zip', '20140422.export.CSV.zip', '20140421.export.CSV.zip', '20140420.export.CSV.zip', '20140419.export.CSV.zip', '20140418.export.CSV.zip', '20140417.export.CSV.zip', '20140416.export.CSV.zip', '20140415.export.CSV.zip', '20140414.export.CSV.zip', '20140413.export.CSV.zip', '20140412.export.CSV.zip', '20140411.export.CSV.zip', '20140410.export.CSV.zip', '20140409.export.CSV.zip', '20140408.export.CSV.zip', '20140407.export.CSV.zip', '20140406.export.CSV.zip', '20140405.export.CSV.zip', '20140404.export.CSV.zip', '20140403.export.CSV.zip', '20140402.export.CSV.zip', '20140401.export.CSV.zip', '20140331.export.CSV.zip', '20140330.export.CSV.zip', '20140329.export.CSV.zip', '20140328.export.CSV.zip', '20140327.export.CSV.zip', '20140326.export.CSV.zip', '20140325.export.CSV.zip', '20140324.export.CSV.zip', '20140323.export.CSV.zip', '20140322.export.CSV.zip', '20140321.export.CSV.zip', '20140320.export.CSV.zip', '20140318.export.CSV.zip', '20140317.export.CSV.zip', '20140316.export.CSV.zip', '20140315.export.CSV.zip', '20140314.export.CSV.zip', '20140313.export.CSV.zip', '20140312.export.CSV.zip', '20140311.export.CSV.zip', '20140310.export.CSV.zip', '20140309.export.CSV.zip', '20140308.export.CSV.zip', '20140307.export.CSV.zip', '20140306.export.CSV.zip', '20140305.export.CSV.zip', '20140304.export.CSV.zip', '20140303.export.CSV.zip', '20140302.export.CSV.zip', '20140301.export.CSV.zip', '20140228.export.CSV.zip', '20140227.export.CSV.zip', '20140226.export.CSV.zip', '20140225.export.CSV.zip', '20140224.export.CSV.zip', '20140223.export.CSV.zip', '20140222.export.CSV.zip', '20140221.export.CSV.zip', '20140220.export.CSV.zip', '20140219.export.CSV.zip', '20140218.export.CSV.zip', '20140217.export.CSV.zip', '20140216.export.CSV.zip', '20140215.export.CSV.zip', '20140214.export.CSV.zip', '20140213.export.CSV.zip', '20140212.export.CSV.zip', '20140211.export.CSV.zip', '20140210.export.CSV.zip', '20140209.export.CSV.zip', '20140208.export.CSV.zip', '20140207.export.CSV.zip', '20140206.export.CSV.zip', '20140205.export.CSV.zip', '20140204.export.CSV.zip', '20140203.export.CSV.zip', '20140202.export.CSV.zip', '20140201.export.CSV.zip', '20140131.export.CSV.zip', '20140130.export.CSV.zip', '20140129.export.CSV.zip', '20140128.export.CSV.zip', '20140127.export.CSV.zip', '20140126.export.CSV.zip', '20140122.export.CSV.zip', '20140121.export.CSV.zip', '20140120.export.CSV.zip', '20140119.export.CSV.zip', '20140118.export.CSV.zip', '20140117.export.CSV.zip', '20140116.export.CSV.zip', '20140115.export.CSV.zip', '20140114.export.CSV.zip', '20140113.export.CSV.zip', '20140112.export.CSV.zip', '20140111.export.CSV.zip', '20140110.export.CSV.zip', '20140109.export.CSV.zip', '20140108.export.CSV.zip', '20140107.export.CSV.zip', '20140106.export.CSV.zip', '20140105.export.CSV.zip', '20140104.export.CSV.zip', '20140103.export.CSV.zip', '20140102.export.CSV.zip', '20140101.export.CSV.zip', '20131231.export.CSV.zip', '20131230.export.CSV.zip', '20131229.export.CSV.zip', '20131228.export.CSV.zip', '20131227.export.CSV.zip', '20131226.export.CSV.zip', '20131225.export.CSV.zip', '20131224.export.CSV.zip', '20131223.export.CSV.zip', '20131222.export.CSV.zip', '20131221.export.CSV.zip', '20131220.export.CSV.zip', '20131219.export.CSV.zip', '20131218.export.CSV.zip', '20131217.export.CSV.zip', '20131216.export.CSV.zip', '20131215.export.CSV.zip', '20131214.export.CSV.zip', '20131213.export.CSV.zip', '20131212.export.CSV.zip', '20131211.export.CSV.zip', '20131210.export.CSV.zip', '20131209.export.CSV.zip', '20131208.export.CSV.zip', '20131207.export.CSV.zip', '20131206.export.CSV.zip', '20131205.export.CSV.zip', '20131204.export.CSV.zip', '20131203.export.CSV.zip', '20131202.export.CSV.zip', '20131201.export.CSV.zip', '20131130.export.CSV.zip', '20131129.export.CSV.zip', '20131128.export.CSV.zip', '20131127.export.CSV.zip', '20131126.export.CSV.zip', '20131125.export.CSV.zip', '20131124.export.CSV.zip', '20131123.export.CSV.zip', '20131122.export.CSV.zip', '20131121.export.CSV.zip', '20131120.export.CSV.zip', '20131119.export.CSV.zip', '20131118.export.CSV.zip', '20131117.export.CSV.zip', '20131116.export.CSV.zip', '20131115.export.CSV.zip', '20131114.export.CSV.zip', '20131113.export.CSV.zip', '20131112.export.CSV.zip', '20131111.export.CSV.zip', '20131110.export.CSV.zip', '20131109.export.CSV.zip', '20131108.export.CSV.zip', '20131107.export.CSV.zip', '20131106.export.CSV.zip', '20131105.export.CSV.zip', '20131104.export.CSV.zip', '20131103.export.CSV.zip', '20131102.export.CSV.zip', '20131101.export.CSV.zip', '20131031.export.CSV.zip', '20131030.export.CSV.zip', '20131029.export.CSV.zip', '20131028.export.CSV.zip', '20131027.export.CSV.zip', '20131026.export.CSV.zip', '20131025.export.CSV.zip', '20131024.export.CSV.zip', '20131023.export.CSV.zip', '20131022.export.CSV.zip', '20131021.export.CSV.zip', '20131020.export.CSV.zip', '20131019.export.CSV.zip', '20131018.export.CSV.zip', '20131017.export.CSV.zip', '20131016.export.CSV.zip', '20131015.export.CSV.zip', '20131014.export.CSV.zip', '20131013.export.CSV.zip', '20131012.export.CSV.zip', '20131011.export.CSV.zip', '20131010.export.CSV.zip', '20131009.export.CSV.zip', '20131008.export.CSV.zip', '20131007.export.CSV.zip', '20131006.export.CSV.zip', '20131005.export.CSV.zip', '20131004.export.CSV.zip', '20131003.export.CSV.zip', '20131002.export.CSV.zip', '20131001.export.CSV.zip', '20130930.export.CSV.zip', '20130929.export.CSV.zip', '20130928.export.CSV.zip', '20130927.export.CSV.zip', '20130926.export.CSV.zip', '20130925.export.CSV.zip', '20130924.export.CSV.zip', '20130923.export.CSV.zip', '20130922.export.CSV.zip', '20130921.export.CSV.zip', '20130920.export.CSV.zip', '20130919.export.CSV.zip', '20130918.export.CSV.zip', '20130917.export.CSV.zip', '20130916.export.CSV.zip', '20130915.export.CSV.zip', '20130914.export.CSV.zip', '20130913.export.CSV.zip', '20130912.export.CSV.zip', '20130911.export.CSV.zip', '20130910.export.CSV.zip', '20130909.export.CSV.zip', '20130908.export.CSV.zip', '20130907.export.CSV.zip', '20130906.export.CSV.zip', '20130905.export.CSV.zip', '20130904.export.CSV.zip', '20130903.export.CSV.zip', '20130902.export.CSV.zip', '20130901.export.CSV.zip', '20130831.export.CSV.zip', '20130830.export.CSV.zip', '20130829.export.CSV.zip', '20130828.export.CSV.zip', '20130827.export.CSV.zip', '20130826.export.CSV.zip', '20130825.export.CSV.zip', '20130824.export.CSV.zip', '20130823.export.CSV.zip', '20130822.export.CSV.zip', '20130821.export.CSV.zip', '20130820.export.CSV.zip', '20130819.export.CSV.zip', '20130818.export.CSV.zip', '20130817.export.CSV.zip', '20130816.export.CSV.zip', '20130815.export.CSV.zip', '20130814.export.CSV.zip', '20130813.export.CSV.zip', '20130812.export.CSV.zip', '20130811.export.CSV.zip', '20130810.export.CSV.zip', '20130809.export.CSV.zip', '20130808.export.CSV.zip', '20130807.export.CSV.zip', '20130806.export.CSV.zip', '20130805.export.CSV.zip', '20130804.export.CSV.zip', '20130803.export.CSV.zip', '20130802.export.CSV.zip', '20130801.export.CSV.zip', '20130731.export.CSV.zip', '20130730.export.CSV.zip', '20130729.export.CSV.zip', '20130728.export.CSV.zip', '20130727.export.CSV.zip', '20130726.export.CSV.zip', '20130725.export.CSV.zip', '20130724.export.CSV.zip', '20130723.export.CSV.zip', '20130722.export.CSV.zip', '20130721.export.CSV.zip', '20130720.export.CSV.zip', '20130719.export.CSV.zip', '20130718.export.CSV.zip', '20130717.export.CSV.zip', '20130716.export.CSV.zip', '20130715.export.CSV.zip', '20130714.export.CSV.zip', '20130713.export.CSV.zip', '20130712.export.CSV.zip', '20130711.export.CSV.zip', '20130710.export.CSV.zip', '20130709.export.CSV.zip', '20130708.export.CSV.zip', '20130707.export.CSV.zip', '20130706.export.CSV.zip', '20130705.export.CSV.zip', '20130704.export.CSV.zip', '20130703.export.CSV.zip', '20130702.export.CSV.zip', '20130701.export.CSV.zip', '20130630.export.CSV.zip', '20130629.export.CSV.zip', '20130628.export.CSV.zip', '20130627.export.CSV.zip', '20130626.export.CSV.zip', '20130625.export.CSV.zip', '20130624.export.CSV.zip', '20130623.export.CSV.zip', '20130622.export.CSV.zip', '20130621.export.CSV.zip', '20130620.export.CSV.zip', '20130619.export.CSV.zip', '20130618.export.CSV.zip', '20130617.export.CSV.zip', '20130616.export.CSV.zip', '20130615.export.CSV.zip', '20130614.export.CSV.zip', '20130613.export.CSV.zip', '20130612.export.CSV.zip', '20130611.export.CSV.zip', '20130610.export.CSV.zip', '20130609.export.CSV.zip', '20130608.export.CSV.zip', '20130607.export.CSV.zip', '20130606.export.CSV.zip', '20130605.export.CSV.zip', '20130604.export.CSV.zip', '20130603.export.CSV.zip', '20130602.export.CSV.zip', '20130601.export.CSV.zip', '20130531.export.CSV.zip', '20130530.export.CSV.zip', '20130529.export.CSV.zip', '20130528.export.CSV.zip', '20130527.export.CSV.zip', '20130526.export.CSV.zip', '20130525.export.CSV.zip', '20130524.export.CSV.zip', '20130523.export.CSV.zip', '20130522.export.CSV.zip', '20130521.export.CSV.zip', '20130520.export.CSV.zip', '20130519.export.CSV.zip', '20130518.export.CSV.zip', '20130517.export.CSV.zip', '20130516.export.CSV.zip', '20130515.export.CSV.zip', '20130514.export.CSV.zip', '20130513.export.CSV.zip', '20130512.export.CSV.zip', '20130511.export.CSV.zip', '20130510.export.CSV.zip', '20130509.export.CSV.zip', '20130508.export.CSV.zip', '20130507.export.CSV.zip', '20130506.export.CSV.zip', '20130505.export.CSV.zip', '20130504.export.CSV.zip', '20130503.export.CSV.zip', '20130502.export.CSV.zip', '20130501.export.CSV.zip', '20130430.export.CSV.zip', '20130429.export.CSV.zip', '20130428.export.CSV.zip', '20130427.export.CSV.zip', '20130426.export.CSV.zip', '20130425.export.CSV.zip', '20130424.export.CSV.zip', '20130423.export.CSV.zip', '20130422.export.CSV.zip', '20130421.export.CSV.zip', '20130420.export.CSV.zip', '20130419.export.CSV.zip', '20130418.export.CSV.zip', '20130417.export.CSV.zip', '20130416.export.CSV.zip', '20130415.export.CSV.zip', '20130414.export.CSV.zip', '20130413.export.CSV.zip', '20130412.export.CSV.zip', '20130411.export.CSV.zip', '20130410.export.CSV.zip', '20130409.export.CSV.zip', '20130408.export.CSV.zip', '20130407.export.CSV.zip', '20130406.export.CSV.zip', '20130405.export.CSV.zip', '20130404.export.CSV.zip', '20130403.export.CSV.zip', '20130402.export.CSV.zip', '20130401.export.CSV.zip', '201303.zip', '201302.zip', '201301.zip', '201212.zip', '201211.zip', '201210.zip', '201209.zip', '201208.zip', '201207.zip', '201206.zip', '201205.zip', '201204.zip', '201203.zip', '201202.zip', '201201.zip', '201112.zip', '201111.zip', '201110.zip', '201109.zip', '201108.zip', '201107.zip', '201106.zip', '201105.zip', '201104.zip', '201103.zip', '201102.zip', '201101.zip', '201012.zip', '201011.zip', '201010.zip', '201009.zip', '201008.zip', '201007.zip', '201006.zip', '201005.zip', '201004.zip', '201003.zip', '201002.zip', '201001.zip', '200912.zip', '200911.zip', '200910.zip', '200909.zip', '200908.zip', '200907.zip', '200906.zip', '200905.zip', '200904.zip', '200903.zip', '200902.zip', '200901.zip', '200812.zip', '200811.zip', '200810.zip', '200809.zip', '200808.zip', '200807.zip', '200806.zip', '200805.zip', '200804.zip', '200803.zip', '200802.zip', '200801.zip', '200712.zip', '200711.zip', '200710.zip', '200709.zip', '200708.zip', '200707.zip', '200706.zip', '200705.zip', '200704.zip', '200703.zip', '200702.zip', '200701.zip', '200612.zip', '200611.zip', '200610.zip', '200609.zip', '200608.zip', '200607.zip', '200606.zip', '200605.zip', '200604.zip', '200603.zip', '200602.zip', '200601.zip', '2005.zip', '2004.zip', '2003.zip', '2002.zip', '2001.zip', '2000.zip', '1999.zip', '1998.zip', '1997.zip', '1996.zip', '1995.zip', '1994.zip', '1993.zip', '1992.zip', '1991.zip', '1990.zip', '1989.zip', '1988.zip', '1987.zip', '1986.zip', '1985.zip', '1984.zip', '1983.zip', '1982.zip', '1981.zip', '1980.zip', '1979.zip']\n",
      "20181103.export.CSV.zip\n",
      "downloading, \n"
     ]
    },
    {
     "ename": "KeyboardInterrupt",
     "evalue": "",
     "output_type": "error",
     "traceback": [
      "\u001b[1;31m---------------------------------------------------------------------------\u001b[0m",
      "\u001b[1;31mKeyboardInterrupt\u001b[0m                         Traceback (most recent call last)",
      "\u001b[1;32m<ipython-input-10-4f5f12854567>\u001b[0m in \u001b[0;36m<module>\u001b[1;34m()\u001b[0m\n\u001b[0;32m     33\u001b[0m         \u001b[0mprint\u001b[0m\u001b[1;33m(\u001b[0m\u001b[1;34m'downloading, '\u001b[0m\u001b[1;33m)\u001b[0m\u001b[1;33m,\u001b[0m\u001b[1;33m\u001b[0m\u001b[0m\n\u001b[0;32m     34\u001b[0m         urllib.request.urlretrieve(url=gdelt_base_url + compressed_file,\n\u001b[1;32m---> 35\u001b[1;33m                            filename=local_path + compressed_file)\n\u001b[0m\u001b[0;32m     36\u001b[0m \u001b[1;33m\u001b[0m\u001b[0m\n\u001b[0;32m     37\u001b[0m     \u001b[1;31m# extract the contents of the compressed file to a temporary directory\u001b[0m\u001b[1;33m\u001b[0m\u001b[1;33m\u001b[0m\u001b[0m\n",
      "\u001b[1;32mC:\\ProgramData\\Anaconda3\\lib\\urllib\\request.py\u001b[0m in \u001b[0;36murlretrieve\u001b[1;34m(url, filename, reporthook, data)\u001b[0m\n\u001b[0;32m    275\u001b[0m \u001b[1;33m\u001b[0m\u001b[0m\n\u001b[0;32m    276\u001b[0m             \u001b[1;32mwhile\u001b[0m \u001b[1;32mTrue\u001b[0m\u001b[1;33m:\u001b[0m\u001b[1;33m\u001b[0m\u001b[0m\n\u001b[1;32m--> 277\u001b[1;33m                 \u001b[0mblock\u001b[0m \u001b[1;33m=\u001b[0m \u001b[0mfp\u001b[0m\u001b[1;33m.\u001b[0m\u001b[0mread\u001b[0m\u001b[1;33m(\u001b[0m\u001b[0mbs\u001b[0m\u001b[1;33m)\u001b[0m\u001b[1;33m\u001b[0m\u001b[0m\n\u001b[0m\u001b[0;32m    278\u001b[0m                 \u001b[1;32mif\u001b[0m \u001b[1;32mnot\u001b[0m \u001b[0mblock\u001b[0m\u001b[1;33m:\u001b[0m\u001b[1;33m\u001b[0m\u001b[0m\n\u001b[0;32m    279\u001b[0m                     \u001b[1;32mbreak\u001b[0m\u001b[1;33m\u001b[0m\u001b[0m\n",
      "\u001b[1;32mC:\\ProgramData\\Anaconda3\\lib\\http\\client.py\u001b[0m in \u001b[0;36mread\u001b[1;34m(self, amt)\u001b[0m\n\u001b[0;32m    447\u001b[0m             \u001b[1;31m# Amount is given, implement using readinto\u001b[0m\u001b[1;33m\u001b[0m\u001b[1;33m\u001b[0m\u001b[0m\n\u001b[0;32m    448\u001b[0m             \u001b[0mb\u001b[0m \u001b[1;33m=\u001b[0m \u001b[0mbytearray\u001b[0m\u001b[1;33m(\u001b[0m\u001b[0mamt\u001b[0m\u001b[1;33m)\u001b[0m\u001b[1;33m\u001b[0m\u001b[0m\n\u001b[1;32m--> 449\u001b[1;33m             \u001b[0mn\u001b[0m \u001b[1;33m=\u001b[0m \u001b[0mself\u001b[0m\u001b[1;33m.\u001b[0m\u001b[0mreadinto\u001b[0m\u001b[1;33m(\u001b[0m\u001b[0mb\u001b[0m\u001b[1;33m)\u001b[0m\u001b[1;33m\u001b[0m\u001b[0m\n\u001b[0m\u001b[0;32m    450\u001b[0m             \u001b[1;32mreturn\u001b[0m \u001b[0mmemoryview\u001b[0m\u001b[1;33m(\u001b[0m\u001b[0mb\u001b[0m\u001b[1;33m)\u001b[0m\u001b[1;33m[\u001b[0m\u001b[1;33m:\u001b[0m\u001b[0mn\u001b[0m\u001b[1;33m]\u001b[0m\u001b[1;33m.\u001b[0m\u001b[0mtobytes\u001b[0m\u001b[1;33m(\u001b[0m\u001b[1;33m)\u001b[0m\u001b[1;33m\u001b[0m\u001b[0m\n\u001b[0;32m    451\u001b[0m         \u001b[1;32melse\u001b[0m\u001b[1;33m:\u001b[0m\u001b[1;33m\u001b[0m\u001b[0m\n",
      "\u001b[1;32mC:\\ProgramData\\Anaconda3\\lib\\http\\client.py\u001b[0m in \u001b[0;36mreadinto\u001b[1;34m(self, b)\u001b[0m\n\u001b[0;32m    491\u001b[0m         \u001b[1;31m# connection, and the user is reading more bytes than will be provided\u001b[0m\u001b[1;33m\u001b[0m\u001b[1;33m\u001b[0m\u001b[0m\n\u001b[0;32m    492\u001b[0m         \u001b[1;31m# (for example, reading in 1k chunks)\u001b[0m\u001b[1;33m\u001b[0m\u001b[1;33m\u001b[0m\u001b[0m\n\u001b[1;32m--> 493\u001b[1;33m         \u001b[0mn\u001b[0m \u001b[1;33m=\u001b[0m \u001b[0mself\u001b[0m\u001b[1;33m.\u001b[0m\u001b[0mfp\u001b[0m\u001b[1;33m.\u001b[0m\u001b[0mreadinto\u001b[0m\u001b[1;33m(\u001b[0m\u001b[0mb\u001b[0m\u001b[1;33m)\u001b[0m\u001b[1;33m\u001b[0m\u001b[0m\n\u001b[0m\u001b[0;32m    494\u001b[0m         \u001b[1;32mif\u001b[0m \u001b[1;32mnot\u001b[0m \u001b[0mn\u001b[0m \u001b[1;32mand\u001b[0m \u001b[0mb\u001b[0m\u001b[1;33m:\u001b[0m\u001b[1;33m\u001b[0m\u001b[0m\n\u001b[0;32m    495\u001b[0m             \u001b[1;31m# Ideally, we would raise IncompleteRead if the content-length\u001b[0m\u001b[1;33m\u001b[0m\u001b[1;33m\u001b[0m\u001b[0m\n",
      "\u001b[1;32mC:\\ProgramData\\Anaconda3\\lib\\socket.py\u001b[0m in \u001b[0;36mreadinto\u001b[1;34m(self, b)\u001b[0m\n\u001b[0;32m    584\u001b[0m         \u001b[1;32mwhile\u001b[0m \u001b[1;32mTrue\u001b[0m\u001b[1;33m:\u001b[0m\u001b[1;33m\u001b[0m\u001b[0m\n\u001b[0;32m    585\u001b[0m             \u001b[1;32mtry\u001b[0m\u001b[1;33m:\u001b[0m\u001b[1;33m\u001b[0m\u001b[0m\n\u001b[1;32m--> 586\u001b[1;33m                 \u001b[1;32mreturn\u001b[0m \u001b[0mself\u001b[0m\u001b[1;33m.\u001b[0m\u001b[0m_sock\u001b[0m\u001b[1;33m.\u001b[0m\u001b[0mrecv_into\u001b[0m\u001b[1;33m(\u001b[0m\u001b[0mb\u001b[0m\u001b[1;33m)\u001b[0m\u001b[1;33m\u001b[0m\u001b[0m\n\u001b[0m\u001b[0;32m    587\u001b[0m             \u001b[1;32mexcept\u001b[0m \u001b[0mtimeout\u001b[0m\u001b[1;33m:\u001b[0m\u001b[1;33m\u001b[0m\u001b[0m\n\u001b[0;32m    588\u001b[0m                 \u001b[0mself\u001b[0m\u001b[1;33m.\u001b[0m\u001b[0m_timeout_occurred\u001b[0m \u001b[1;33m=\u001b[0m \u001b[1;32mTrue\u001b[0m\u001b[1;33m\u001b[0m\u001b[0m\n",
      "\u001b[1;31mKeyboardInterrupt\u001b[0m: "
     ]
    }
   ],
   "source": [
    "import requests\n",
    "import lxml.html as lh\n",
    "\n",
    "gdelt_base_url = 'http://data.gdeltproject.org/events/'\n",
    "\n",
    "# get the list of all the links on the gdelt file page\n",
    "page = requests.get(gdelt_base_url+'index.html')\n",
    "doc = lh.fromstring(page.content)\n",
    "link_list = doc.xpath(\"//*/ul/li/a/@href\")\n",
    "\n",
    "# separate out those links that begin with four digits\n",
    "file_list = [x for x in link_list if str.isdigit(x[0:4])]\n",
    "print(file_list)\n",
    "\n",
    "infilecounter = 0\n",
    "outfilecounter = 0\n",
    "\n",
    "import os.path\n",
    "import urllib\n",
    "import zipfile\n",
    "import glob\n",
    "import operator\n",
    "\n",
    "local_path = os.getcwd()\n",
    "\n",
    "fips_country_code = 'ID'\n",
    "\n",
    "for compressed_file in file_list[infilecounter:]:\n",
    "    print(compressed_file)\n",
    "\n",
    "    # if we dont have the compressed file stored locally, go get it. Keep trying if necessary.\n",
    "    while not os.path.isfile(local_path + compressed_file):\n",
    "        print('downloading, '),\n",
    "        urllib.request.urlretrieve(url=gdelt_base_url + compressed_file,\n",
    "                           filename=local_path + compressed_file)\n",
    "\n",
    "    # extract the contents of the compressed file to a temporary directory\n",
    "    print('extracting,'),\n",
    "    z = zipfile.ZipFile(file=local_path + compressed_file, mode='r')\n",
    "    z.extractall(path=local_path + 'tmp/')\n",
    "\n",
    "    # parse each of the csv files in the working directory,\n",
    "    print('parsing,'),\n",
    "    for infile_name in glob.glob(local_path + 'tmp/*'):\n",
    "        outfile_name = local_path + 'gdelt_id/' + fips_country_code + '%04i.tsv' % outfilecounter\n",
    "\n",
    "        # open the infile and outfile\n",
    "        with open(infile_name, mode='r', encoding='utf-8') as infile, open(outfile_name, mode='w') as outfile:\n",
    "            for line in infile:\n",
    "                # extract lines with our interest country code\n",
    "                # Try and except to pass trouble data\n",
    "                try:\n",
    "                    # We extract only the lines where there is relation about Indonesia (ID)\n",
    "                    if fips_country_code in operator.itemgetter(51, 37, 44)(line.split('\\t')):\n",
    "                        outfile.write(line)\n",
    "                except:\n",
    "                    pass\n",
    "            outfilecounter += 1\n",
    "        # delete the temporary file\n",
    "        os.remove(infile_name)\n",
    "    infilecounter += 1\n",
    "    print('done')"
   ]
  },
  {
   "cell_type": "markdown",
   "metadata": {},
   "source": [
    "### 2. Simpan ke MySQL\n",
    "Agar data bisa diakses secara local, kita bisa menyimpannya dalam database MySQL."
   ]
  },
  {
   "cell_type": "markdown",
   "metadata": {},
   "source": [
    "#### A. Bangun koneksi ke MySQL lokal\n",
    "Silakan buka phpMyAdmin atau program SQL favorit anda (HeidiSQL, Laragon), lalu buat database dengan nama 'gdelt_content_id'"
   ]
  },
  {
   "cell_type": "code",
   "execution_count": 1,
   "metadata": {},
   "outputs": [],
   "source": [
    "import pymysql\n",
    "import pandas as pd\n",
    "from sqlalchemy import create_engine\n",
    "\n",
    "host = 'localhost'\n",
    "port = '3306'\n",
    "username = 'root'\n",
    "password = ''\n",
    "database = 'gdelt_content_id'\n",
    "\n",
    "# Create Connection to database\n",
    "# engine = create_engine('mysql+pymysql://'+username+':'+password+'@'+host+':'+port+'/'+database)\n",
    "\n",
    "# Note: We use pymysql instead of sqlalchemy because sqlalchemy somehow don't allow the text query. Strange bug.\n",
    "conn = pymysql.connect(\n",
    "    host=host,\n",
    "    port=int(port),\n",
    "    user=username,\n",
    "    passwd=password,\n",
    "    db=database,\n",
    "    charset='utf8mb4')\n",
    "'''engine = create_engine('mysql+pymysql://root: @localhost:3306/gdelt_content_id')'''\n",
    "\n",
    "def run(sql):\n",
    "    df = pd.read_sql_query(sql, conn)\n",
    "    return df"
   ]
  },
  {
   "cell_type": "markdown",
   "metadata": {},
   "source": [
    "#### B. List Data dalam Folder\n",
    "Di bagian ini, kita akan membaca data GDELT harian (tsv) dalam folder. Data tersebut akan dikompilasi menjadi dataframe Pandas."
   ]
  },
  {
   "cell_type": "code",
   "execution_count": null,
   "metadata": {},
   "outputs": [],
   "source": [
    "from os import listdir\n",
    "from os.path import isfile, join\n",
    "folder_id = './gdelt_id/'\n",
    "files = [f for f in listdir(folder_id) if isfile(join(folder_id, f))]\n",
    "print(files)"
   ]
  },
  {
   "cell_type": "code",
   "execution_count": null,
   "metadata": {},
   "outputs": [],
   "source": [
    "# Open first file for sanity check\n",
    "df_awal = pd.read_csv(folder_id + files[0],sep=\"\\t\")\n",
    "df_awal.head()"
   ]
  },
  {
   "cell_type": "markdown",
   "metadata": {},
   "source": [
    "#### C. Langsung simpan ke MySQL\n",
    "Untuk menyimpan data ke SQL, kita update data tabelnya untuk setiap file tsv yang ada"
   ]
  },
  {
   "cell_type": "code",
   "execution_count": null,
   "metadata": {},
   "outputs": [],
   "source": [
    "# Read header / column names\n",
    "colnames = list(pd.read_excel('CSV.header.fieldids.xlsx', sheet_name='CSV.header.dailyupdates'))\n",
    "\n",
    "for berkas in files:\n",
    "    print('Extracting ' + berkas)\n",
    "    df_satuan = pd.DataFrame()\n",
    "    \n",
    "    # Important: If your ID0000.tsv contains header, you can delete the header\n",
    "    df_satuan = pd.read_csv(folder_id + berkas, sep=\"\\t\", names= colnames)\n",
    "    df_satuan.to_sql(name = database, con = engine, if_exists = 'append', index = False)"
   ]
  },
  {
   "cell_type": "markdown",
   "metadata": {},
   "source": [
    "## Transformasi Data\n",
    "\n",
    "### 1. Cek Awal Data\n",
    "Setelah data tersimpan secara sukses di MySQL, kita bisa melakukan eksplorasi sederhana. Langkah pertama yang perlu kita lakukan adalah melakukan filter artikel yang sesuai dengan topik startup. Dengan asumsi judul berita dimuat dalam URL artikel, maka kami filter kolom 'SOURCEURL' dengan menggunakan kata kunci yang berhubungan seputar startup. Sejauh ini ada beberapa kata kunci yang sesuai dengan dunia startup:\n",
    "- Startup\n",
    "- Start-up\n",
    "- Unicorn\n",
    "- Silicon-valley\n",
    "- Ecommerce\n",
    "- E-commerce\n",
    "- Rintisan\n",
    "- Perusahaan-rintisan\n",
    "- Perusahaan-startup\n",
    "- Bisnis-startup\n",
    "- Startup-business\n",
    "- Startup-digital\n",
    "- Digital-startup\n",
    "- Crowdfunding\n",
    "- Fintech\n",
    "- Marketplace\n",
    "- Digital-platform\n",
    "- Platform-digital"
   ]
  },
  {
   "cell_type": "code",
   "execution_count": 2,
   "metadata": {},
   "outputs": [],
   "source": [
    "# SQL query to look for keyword in SOURCEURL\n",
    "data_startup = run(\"\"\"\n",
    "SELECT \n",
    "    * \n",
    "FROM \n",
    "    gdelt_content_id\n",
    "WHERE\n",
    "    sourceurl LIKE '%startup%' OR\n",
    "    sourceurl LIKE '%unicorn%' OR\n",
    "    sourceurl LIKE '%start-up%' OR\n",
    "    sourceurl LIKE '%silicon-valley%' OR\n",
    "    sourceurl LIKE '%ecommerce%' OR\n",
    "    sourceurl LIKE '%e-commerce%' OR\n",
    "    sourceurl LIKE '%rintisan%' OR\n",
    "    sourceurl LIKE '%perusahaan-rintisan%' OR\n",
    "    sourceurl LIKE '%perusahaan-startup%' OR\n",
    "    sourceurl LIKE '%bisnis-startup%' OR\n",
    "    sourceurl LIKE '%startup-business%' OR\n",
    "    sourceurl LIKE '%startup-digital%' OR\n",
    "    sourceurl LIKE '%digital-startup%' OR\n",
    "    sourceurl LIKE '%crowdfunding%' OR\n",
    "    sourceurl LIKE '%fintech%' OR\n",
    "    sourceurl LIKE '%marketplace%' OR\n",
    "    sourceurl LIKE '%digital-platform%' OR\n",
    "    sourceurl LIKE '%platform-digital%'\n",
    "    \"\"\")"
   ]
  },
  {
   "cell_type": "code",
   "execution_count": 3,
   "metadata": {},
   "outputs": [
    {
     "name": "stdout",
     "output_type": "stream",
     "text": [
      "(6408, 58)\n"
     ]
    },
    {
     "data": {
      "text/html": [
       "<div>\n",
       "<style scoped>\n",
       "    .dataframe tbody tr th:only-of-type {\n",
       "        vertical-align: middle;\n",
       "    }\n",
       "\n",
       "    .dataframe tbody tr th {\n",
       "        vertical-align: top;\n",
       "    }\n",
       "\n",
       "    .dataframe thead th {\n",
       "        text-align: right;\n",
       "    }\n",
       "</style>\n",
       "<table border=\"1\" class=\"dataframe\">\n",
       "  <thead>\n",
       "    <tr style=\"text-align: right;\">\n",
       "      <th></th>\n",
       "      <th>GLOBALEVENTID</th>\n",
       "      <th>SQLDATE</th>\n",
       "      <th>MonthYear</th>\n",
       "      <th>Year</th>\n",
       "      <th>FractionDate</th>\n",
       "      <th>Actor1Code</th>\n",
       "      <th>Actor1Name</th>\n",
       "      <th>Actor1CountryCode</th>\n",
       "      <th>Actor1KnownGroupCode</th>\n",
       "      <th>Actor1EthnicCode</th>\n",
       "      <th>...</th>\n",
       "      <th>Actor2Geo_FeatureID</th>\n",
       "      <th>ActionGeo_Type</th>\n",
       "      <th>ActionGeo_FullName</th>\n",
       "      <th>ActionGeo_CountryCode</th>\n",
       "      <th>ActionGeo_ADM1Code</th>\n",
       "      <th>ActionGeo_Lat</th>\n",
       "      <th>ActionGeo_Long</th>\n",
       "      <th>ActionGeo_FeatureID</th>\n",
       "      <th>DATEADDED</th>\n",
       "      <th>SOURCEURL</th>\n",
       "    </tr>\n",
       "  </thead>\n",
       "  <tbody>\n",
       "    <tr>\n",
       "      <th>0</th>\n",
       "      <td>798274953</td>\n",
       "      <td>20181029</td>\n",
       "      <td>201810</td>\n",
       "      <td>2018</td>\n",
       "      <td>2018.8192</td>\n",
       "      <td>GOV</td>\n",
       "      <td>GOVERNMENT</td>\n",
       "      <td>None</td>\n",
       "      <td>None</td>\n",
       "      <td>None</td>\n",
       "      <td>...</td>\n",
       "      <td>None</td>\n",
       "      <td>4</td>\n",
       "      <td>Permata, Jakarta Raya, Indonesia</td>\n",
       "      <td>ID</td>\n",
       "      <td>ID04</td>\n",
       "      <td>-6.1458</td>\n",
       "      <td>106.752</td>\n",
       "      <td>10175966</td>\n",
       "      <td>20181029.0</td>\n",
       "      <td>http://fintechnews.sg/25313/blockchain/blockch...</td>\n",
       "    </tr>\n",
       "    <tr>\n",
       "      <th>1</th>\n",
       "      <td>798275016</td>\n",
       "      <td>20181029</td>\n",
       "      <td>201810</td>\n",
       "      <td>2018</td>\n",
       "      <td>2018.8192</td>\n",
       "      <td>GOV</td>\n",
       "      <td>GOVERNMENT</td>\n",
       "      <td>None</td>\n",
       "      <td>None</td>\n",
       "      <td>None</td>\n",
       "      <td>...</td>\n",
       "      <td>10175966</td>\n",
       "      <td>4</td>\n",
       "      <td>Permata, Jakarta Raya, Indonesia</td>\n",
       "      <td>ID</td>\n",
       "      <td>ID04</td>\n",
       "      <td>-6.1458</td>\n",
       "      <td>106.752</td>\n",
       "      <td>10175966</td>\n",
       "      <td>20181029.0</td>\n",
       "      <td>http://fintechnews.sg/25313/blockchain/blockch...</td>\n",
       "    </tr>\n",
       "    <tr>\n",
       "      <th>2</th>\n",
       "      <td>798275087</td>\n",
       "      <td>20181029</td>\n",
       "      <td>201810</td>\n",
       "      <td>2018</td>\n",
       "      <td>2018.8192</td>\n",
       "      <td>IDN</td>\n",
       "      <td>INDONESIA</td>\n",
       "      <td>IDN</td>\n",
       "      <td>None</td>\n",
       "      <td>None</td>\n",
       "      <td>...</td>\n",
       "      <td>None</td>\n",
       "      <td>4</td>\n",
       "      <td>Permata, Jakarta Raya, Indonesia</td>\n",
       "      <td>ID</td>\n",
       "      <td>ID04</td>\n",
       "      <td>-6.1458</td>\n",
       "      <td>106.752</td>\n",
       "      <td>10175966</td>\n",
       "      <td>20181029.0</td>\n",
       "      <td>http://fintechnews.sg/25313/blockchain/blockch...</td>\n",
       "    </tr>\n",
       "    <tr>\n",
       "      <th>3</th>\n",
       "      <td>798275096</td>\n",
       "      <td>20181029</td>\n",
       "      <td>201810</td>\n",
       "      <td>2018</td>\n",
       "      <td>2018.8192</td>\n",
       "      <td>IDNBUS</td>\n",
       "      <td>INDONESIA</td>\n",
       "      <td>IDN</td>\n",
       "      <td>None</td>\n",
       "      <td>None</td>\n",
       "      <td>...</td>\n",
       "      <td>10175966</td>\n",
       "      <td>4</td>\n",
       "      <td>Permata, Jakarta Raya, Indonesia</td>\n",
       "      <td>ID</td>\n",
       "      <td>ID04</td>\n",
       "      <td>-6.1458</td>\n",
       "      <td>106.752</td>\n",
       "      <td>10175966</td>\n",
       "      <td>20181029.0</td>\n",
       "      <td>http://fintechnews.sg/25313/blockchain/blockch...</td>\n",
       "    </tr>\n",
       "    <tr>\n",
       "      <th>4</th>\n",
       "      <td>798359666</td>\n",
       "      <td>20181029</td>\n",
       "      <td>201810</td>\n",
       "      <td>2018</td>\n",
       "      <td>2018.8192</td>\n",
       "      <td>BUS</td>\n",
       "      <td>COMPANY</td>\n",
       "      <td>None</td>\n",
       "      <td>None</td>\n",
       "      <td>None</td>\n",
       "      <td>...</td>\n",
       "      <td>None</td>\n",
       "      <td>1</td>\n",
       "      <td>Indonesia</td>\n",
       "      <td>ID</td>\n",
       "      <td>ID</td>\n",
       "      <td>-5.0000</td>\n",
       "      <td>120.000</td>\n",
       "      <td>ID</td>\n",
       "      <td>20181029.0</td>\n",
       "      <td>https://www.dealstreetasia.com/stories/indones...</td>\n",
       "    </tr>\n",
       "  </tbody>\n",
       "</table>\n",
       "<p>5 rows × 58 columns</p>\n",
       "</div>"
      ],
      "text/plain": [
       "   GLOBALEVENTID   SQLDATE  MonthYear  Year  FractionDate Actor1Code  \\\n",
       "0      798274953  20181029     201810  2018     2018.8192        GOV   \n",
       "1      798275016  20181029     201810  2018     2018.8192        GOV   \n",
       "2      798275087  20181029     201810  2018     2018.8192        IDN   \n",
       "3      798275096  20181029     201810  2018     2018.8192     IDNBUS   \n",
       "4      798359666  20181029     201810  2018     2018.8192        BUS   \n",
       "\n",
       "   Actor1Name Actor1CountryCode Actor1KnownGroupCode Actor1EthnicCode  \\\n",
       "0  GOVERNMENT              None                 None             None   \n",
       "1  GOVERNMENT              None                 None             None   \n",
       "2   INDONESIA               IDN                 None             None   \n",
       "3   INDONESIA               IDN                 None             None   \n",
       "4     COMPANY              None                 None             None   \n",
       "\n",
       "                         ...                         Actor2Geo_FeatureID  \\\n",
       "0                        ...                                        None   \n",
       "1                        ...                                    10175966   \n",
       "2                        ...                                        None   \n",
       "3                        ...                                    10175966   \n",
       "4                        ...                                        None   \n",
       "\n",
       "  ActionGeo_Type                ActionGeo_FullName ActionGeo_CountryCode  \\\n",
       "0              4  Permata, Jakarta Raya, Indonesia                    ID   \n",
       "1              4  Permata, Jakarta Raya, Indonesia                    ID   \n",
       "2              4  Permata, Jakarta Raya, Indonesia                    ID   \n",
       "3              4  Permata, Jakarta Raya, Indonesia                    ID   \n",
       "4              1                         Indonesia                    ID   \n",
       "\n",
       "  ActionGeo_ADM1Code ActionGeo_Lat ActionGeo_Long ActionGeo_FeatureID  \\\n",
       "0               ID04       -6.1458        106.752            10175966   \n",
       "1               ID04       -6.1458        106.752            10175966   \n",
       "2               ID04       -6.1458        106.752            10175966   \n",
       "3               ID04       -6.1458        106.752            10175966   \n",
       "4                 ID       -5.0000        120.000                  ID   \n",
       "\n",
       "    DATEADDED                                          SOURCEURL  \n",
       "0  20181029.0  http://fintechnews.sg/25313/blockchain/blockch...  \n",
       "1  20181029.0  http://fintechnews.sg/25313/blockchain/blockch...  \n",
       "2  20181029.0  http://fintechnews.sg/25313/blockchain/blockch...  \n",
       "3  20181029.0  http://fintechnews.sg/25313/blockchain/blockch...  \n",
       "4  20181029.0  https://www.dealstreetasia.com/stories/indones...  \n",
       "\n",
       "[5 rows x 58 columns]"
      ]
     },
     "execution_count": 3,
     "metadata": {},
     "output_type": "execute_result"
    }
   ],
   "source": [
    "print(data_startup.shape)\n",
    "data_startup.head()"
   ]
  },
  {
   "cell_type": "markdown",
   "metadata": {},
   "source": [
    "Berdasarkan hasil tersebut, kita melihat ada beberapa data yang duplikat, dilihat dari kolom 'SOURCEURL'. Data duplikat ini disinyalir ada untuk menampung beragam informasi yang berbeda pada kolom-kolom lainnya, seperti Actor1Name, Actor2Name, dll.\n",
    "\n",
    "Untuk saat ini, kita persempit hasil kita terlebih dahulu dengan menghapus data-data yang duplikat."
   ]
  },
  {
   "cell_type": "code",
   "execution_count": 4,
   "metadata": {},
   "outputs": [
    {
     "data": {
      "text/plain": [
       "(2217, 58)"
      ]
     },
     "execution_count": 4,
     "metadata": {},
     "output_type": "execute_result"
    }
   ],
   "source": [
    "data_startup_dup = data_startup.copy()\n",
    "\n",
    "# Remove duplicate data, keep the first occurences\n",
    "data_startup = data_startup.drop_duplicates('SOURCEURL')\n",
    "data_startup.shape"
   ]
  },
  {
   "cell_type": "markdown",
   "metadata": {},
   "source": [
    "Didapat ada 2217 baris berita yang unik, hampir 3 kali lebih kecil dibandingkan data duplikat sebelumnya. Sekarang kita simpan data tersebut ke dalam MySQL. Tak lupa kita simpan juga data startup yang ada duplikatnya untuk analisis selanjutnya."
   ]
  },
  {
   "cell_type": "code",
   "execution_count": 5,
   "metadata": {},
   "outputs": [],
   "source": [
    "# Save non-duplicated data to 'startup_indonesia' table\n",
    "host = 'localhost'\n",
    "port = '3306'\n",
    "username = 'root'\n",
    "password = ''\n",
    "database = 'gdelt_content_id'\n",
    "database_name = 'startup_indonesia'\n",
    "engine_s = create_engine('mysql+pymysql://'+username+':'+password+'@'+host+':'+port+'/'+database)\n",
    "data_startup.to_sql(database_name, engine_s)\n",
    "\n",
    "# Save duplicated data to 'startup_indonesia_dup' table\n",
    "database = 'gdelt_content_id'\n",
    "database_name_dup = 'startup_indonesia_dup'\n",
    "data_startup_dup.to_sql(database_name_dup, engine_s)"
   ]
  },
  {
   "cell_type": "markdown",
   "metadata": {},
   "source": [
    "## Analisis Data\n",
    "Dengan data yang sudah unik tersebut, kita bisa mulai analisis berita tersebut sesuai dengan keinginan kita. \n",
    "\n",
    "### 1. Analisis sumber berita\n",
    "Di bagian ini, kita akan menampilkan asal mula berita-berita tersebut."
   ]
  },
  {
   "cell_type": "code",
   "execution_count": 6,
   "metadata": {},
   "outputs": [
    {
     "data": {
      "text/plain": [
       "www.techinasia.com                183\n",
       "www.dealstreetasia.com            158\n",
       "www.thejakartapost.com            143\n",
       "e27.co                             91\n",
       "en.tempo.co                        63\n",
       "fintechnews.sg                     44\n",
       "www.ecosystemmarketplace.com       41\n",
       "sglinks.com                        35\n",
       "ecommerce-journal.com              33\n",
       "www.techinasia.com:443             33\n",
       "inc42.com                          33\n",
       "www.crowdfundinsider.com           31\n",
       "sg.news.yahoo.com                  30\n",
       "economictimes.indiatimes.com       28\n",
       "jakartaglobe.beritasatu.com        27\n",
       "www.nationmultimedia.com           26\n",
       "asia.nikkei.com                    22\n",
       "www.thestar.com.my                 21\n",
       "www.digitalnewsasia.com            17\n",
       "techcrunch.com                     17\n",
       "jakartaglobe.id                    17\n",
       "www.bloomberg.com                  16\n",
       "www.businesstimes.com.sg           16\n",
       "www.straitstimes.com               16\n",
       "www.forbes.com                     15\n",
       "www.msn.com                        14\n",
       "www.4-traders.com                  12\n",
       "www.indonesia-investments.com      12\n",
       "www.scmp.com                       11\n",
       "english.vietnamnet.vn              11\n",
       "                                 ... \n",
       "www.iotglobalnetwork.com            1\n",
       "www.mobile-financial.com            1\n",
       "www.innovationaus.com               1\n",
       "www.consumerelectronicsnet.com      1\n",
       "nvonews.com                         1\n",
       "startups.co.uk                      1\n",
       "wire.kapitall.com                   1\n",
       "www.finsmes.com                     1\n",
       "conceptnewscentral.com              1\n",
       "news.impactalpha.com                1\n",
       "m.thejakartapost.com                1\n",
       "business.scoop.co.nz                1\n",
       "bt.com.bn                           1\n",
       "www.forbesindia.com                 1\n",
       "www.onegreenplanet.org              1\n",
       "business.mb.com.ph                  1\n",
       "www.exchangewire.com                1\n",
       "startupbisnis.com                   1\n",
       "www.indiawest.com                   1\n",
       "verdictforu.com                     1\n",
       "techmoran.com                       1\n",
       "www.greentechmedia.com              1\n",
       "gulfbusiness.com                    1\n",
       "www.mumbrella.asia                  1\n",
       "businesstech.co.za                  1\n",
       "www.startupticker.ch                1\n",
       "www.ibtimes.com                     1\n",
       "paymentweek.com                     1\n",
       "variety.com                         1\n",
       "www.chinapost.com.tw                1\n",
       "Length: 535, dtype: int64"
      ]
     },
     "execution_count": 6,
     "metadata": {},
     "output_type": "execute_result"
    }
   ],
   "source": [
    "import urllib\n",
    "\n",
    "data_sourceurl = data_startup['SOURCEURL']\n",
    "list_link = []\n",
    "\n",
    "# for extracting domain url. Example: \n",
    "# http://fintechnews.sg/25313/blockchain/blockchain-indonesia/  --> fintechnews.sg\n",
    "for link in data_sourceurl:\n",
    "    list_link.append(urllib.parse.urlparse(link).netloc)\n",
    "    \n",
    "data_link = pd.Series(list_link)\n",
    "\n",
    "# Count by its occurences\n",
    "data_link_count = data_link.value_counts()\n",
    "data_link_count"
   ]
  },
  {
   "cell_type": "markdown",
   "metadata": {},
   "source": [
    "Dari data GDELT, diketahui pemberitaan startup di Indonesia banyak dilakukan oleh techinasia.com, dealstreetasia.com, dan thejakartapost.com."
   ]
  },
  {
   "cell_type": "markdown",
   "metadata": {},
   "source": [
    "### 2. Analisis Tren Startup Berdasarkan Waktu\n",
    "Dalam bagian ini, kita akan melihat banyaknya berita startup dalam hitungan bulan. Analisis ini berguna untuk melihat kapan tren mulai terjadi, serta memprediksi apakah ada pola peningkatan atau penurunan dalam event dunia startup di Indonesia."
   ]
  },
  {
   "cell_type": "code",
   "execution_count": 7,
   "metadata": {},
   "outputs": [
    {
     "data": {
      "text/html": [
       "<div>\n",
       "<style scoped>\n",
       "    .dataframe tbody tr th:only-of-type {\n",
       "        vertical-align: middle;\n",
       "    }\n",
       "\n",
       "    .dataframe tbody tr th {\n",
       "        vertical-align: top;\n",
       "    }\n",
       "\n",
       "    .dataframe thead th {\n",
       "        text-align: right;\n",
       "    }\n",
       "</style>\n",
       "<table border=\"1\" class=\"dataframe\">\n",
       "  <thead>\n",
       "    <tr style=\"text-align: right;\">\n",
       "      <th></th>\n",
       "      <th>count</th>\n",
       "    </tr>\n",
       "    <tr>\n",
       "      <th>MonthYear</th>\n",
       "      <th></th>\n",
       "    </tr>\n",
       "  </thead>\n",
       "  <tbody>\n",
       "    <tr>\n",
       "      <th>201210</th>\n",
       "      <td>1</td>\n",
       "    </tr>\n",
       "    <tr>\n",
       "      <th>201304</th>\n",
       "      <td>1</td>\n",
       "    </tr>\n",
       "    <tr>\n",
       "      <th>201305</th>\n",
       "      <td>1</td>\n",
       "    </tr>\n",
       "    <tr>\n",
       "      <th>201306</th>\n",
       "      <td>5</td>\n",
       "    </tr>\n",
       "    <tr>\n",
       "      <th>201307</th>\n",
       "      <td>9</td>\n",
       "    </tr>\n",
       "  </tbody>\n",
       "</table>\n",
       "</div>"
      ],
      "text/plain": [
       "           count\n",
       "MonthYear       \n",
       "201210         1\n",
       "201304         1\n",
       "201305         1\n",
       "201306         5\n",
       "201307         9"
      ]
     },
     "execution_count": 7,
     "metadata": {},
     "output_type": "execute_result"
    }
   ],
   "source": [
    "data_count = data_startup.copy()\n",
    "# data_count['MonthYear'] = pd.to_datetime(data_count['MonthYear'].astype(str), format='%Y%m')\n",
    "\n",
    "# Aggregate the table with count\n",
    "data_count = data_count.groupby(data_count['MonthYear']).agg({'count'})\n",
    "data_count = data_count.sort_index(ascending=True)\n",
    "data_count['GLOBALEVENTID'].head()"
   ]
  },
  {
   "cell_type": "code",
   "execution_count": 9,
   "metadata": {},
   "outputs": [
    {
     "data": {
      "text/plain": [
       "<matplotlib.axes._subplots.AxesSubplot at 0x21c16c6b240>"
      ]
     },
     "execution_count": 9,
     "metadata": {},
     "output_type": "execute_result"
    },
    {
     "data": {
      "image/png": "[encoded data removed]",
      "text/plain": [
       "<matplotlib.figure.Figure at 0x21c16d693c8>"
      ]
     },
     "metadata": {},
     "output_type": "display_data"
    }
   ],
   "source": [
    "# display it using bar\n",
    "data_count['GLOBALEVENTID'].plot(kind='bar', figsize=(20,20), fontsize=20)"
   ]
  },
  {
   "cell_type": "markdown",
   "metadata": {},
   "source": [
    "Berdasarkan data tren, terlihat bahwa pemberitaan startup masih mengalami fluktuasi pada 5 tahun terakhir. Tren kenaikan terlihat pada periode 2012-2014. Booming tren startup baru terlihat pada November 2014."
   ]
  },
  {
   "cell_type": "markdown",
   "metadata": {},
   "source": [
    "## Rencana Selanjutnya\n",
    "Notebook ini akan diperbarui lebih lanjut dengan beberapa ide sebagai berikut:\n",
    "1. Ekstraksi teks berita\n",
    "2. Analisis aktor\n",
    "3. Analisis word cloud\n",
    "4. Analisis sentimen"
   ]
  }
 ],
 "metadata": {
  "kernelspec": {
   "display_name": "Python 3",
   "language": "python",
   "name": "python3"
  },
  "language_info": {
   "codemirror_mode": {
    "name": "ipython",
    "version": 3
   },
   "file_extension": ".py",
   "mimetype": "text/x-python",
   "name": "python",
   "nbconvert_exporter": "python",
   "pygments_lexer": "ipython3",
   "version": "3.6.4"
  }
 },
 "nbformat": 4,
 "nbformat_minor": 2
}

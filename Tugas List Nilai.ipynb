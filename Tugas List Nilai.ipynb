{
 "cells": [
  {
   "cell_type": "markdown",
   "metadata": {},
   "source": [
    "# TUGAS LIST NILAI\n",
    "## Nama: Luthfi Zharif"
   ]
  },
  {
   "cell_type": "markdown",
   "metadata": {},
   "source": [
    "### Soal\n",
    "\n",
    "Diberikan sekumpulan Nilai Random antara 0 sampai dengan 100 sebanyak 250 nilai. Buatlah program untuk melakukan hal berikut:\n",
    "1. Tampilkan Angka Ganjil dari ke 250 nilai tersebut\n",
    "2. Tampilkan berapa banyak yang mendapatkan nilai lebih dari 70\n",
    "3. Tampilkan standar deviasi dari sekumpulan nilai tersebut\n",
    "4. Tampilkan nilai maksimum dan minimum\n",
    "5. Tampilkan modus dari sekumpulan nilai tersebut"
   ]
  },
  {
   "cell_type": "code",
   "execution_count": 1,
   "metadata": {},
   "outputs": [
    {
     "name": "stdout",
     "output_type": "stream",
     "text": [
      "[58, 71, 41, 54, 18, 17, 93, 53, 65, 68, 50, 81, 53, 28, 99, 9, 93, 86, 9, 78, 82, 13, 32, 84, 49, 5, 43, 61, 85, 41, 77, 54, 46, 49, 50, 42, 48, 88, 20, 55, 1, 15, 24, 63, 83, 2, 92, 87, 3, 76, 21, 45, 28, 36, 30, 17, 84, 22, 6, 51, 59, 45, 28, 77, 15, 87, 91, 70, 50, 51, 31, 41, 22, 93, 12, 44, 23, 53, 15, 8, 69, 17, 18, 80, 79, 41, 11, 65, 87, 82, 36, 44, 21, 62, 65, 50, 56, 46, 82, 45, 88, 55, 77, 77, 54, 97, 26, 96, 20, 11, 99, 98, 79, 82, 58, 28, 10, 32, 81, 69, 14, 32, 30, 9, 26, 73, 40, 22, 81, 3, 12, 95, 2, 53, 59, 38, 70, 6, 32, 29, 41, 77, 35, 35, 46, 9, 27, 30, 33, 2, 21, 4, 49, 7, 60, 95, 76, 25, 4, 91, 63, 42, 83, 89, 40, 10, 46, 63, 60, 29, 76, 53, 10, 62, 2, 14, 1, 54, 49, 67, 42, 72, 55, 70, 59, 85, 20, 38, 79, 73, 58, 99, 44, 48, 71, 74, 11, 72, 47, 84, 41, 12, 93, 98, 48, 77, 3, 75, 39, 26, 58, 84, 15, 58, 84, 69, 15, 56, 44, 57, 48, 92, 52, 32, 75, 15, 92, 13, 14, 81, 57, 93, 51, 99, 3, 71, 14, 13, 23, 23, 72, 33, 74, 21, 90, 62, 53, 70, 94, 2]\n"
     ]
    }
   ],
   "source": [
    "import random\n",
    "\n",
    "# GENERATE RANDOM\n",
    "scoreTest = []\n",
    "for i in range(250):\n",
    "    scoreTest.append(random.randrange(1,100,1))\n",
    "print(scoreTest)"
   ]
  },
  {
   "cell_type": "code",
   "execution_count": 2,
   "metadata": {},
   "outputs": [
    {
     "name": "stdout",
     "output_type": "stream",
     "text": [
      "Odd Score:  [71, 41, 17, 93, 53, 65, 81, 53, 99, 9, 93, 9, 13, 49, 5, 43, 61, 85, 41, 77, 49, 55, 1, 15, 63, 83, 87, 3, 21, 45, 17, 51, 59, 45, 77, 15, 87, 91, 51, 31, 41, 93, 23, 53, 15, 69, 17, 79, 41, 11, 65, 87, 21, 65, 45, 55, 77, 77, 97, 11, 99, 79, 81, 69, 9, 73, 81, 3, 95, 53, 59, 29, 41, 77, 35, 35, 9, 27, 33, 21, 49, 7, 95, 25, 91, 63, 83, 89, 63, 29, 53, 1, 49, 67, 55, 59, 85, 79, 73, 99, 71, 11, 47, 41, 93, 77, 3, 75, 39, 15, 69, 15, 57, 75, 15, 13, 81, 57, 93, 51, 99, 3, 71, 13, 23, 23, 33, 21, 53]\n"
     ]
    }
   ],
   "source": [
    "# 1. To list odd score\n",
    "scoreOdd = [score for score in scoreTest if score % 2 == 1]\n",
    "\n",
    "print(\"Odd Score: \", scoreOdd)"
   ]
  },
  {
   "cell_type": "code",
   "execution_count": 3,
   "metadata": {},
   "outputs": [
    {
     "name": "stdout",
     "output_type": "stream",
     "text": [
      "Score with value > 70:  [71, 93, 81, 99, 93, 86, 78, 82, 84, 85, 77, 88, 83, 92, 87, 76, 84, 77, 87, 91, 93, 80, 79, 87, 82, 82, 88, 77, 77, 97, 96, 99, 98, 79, 82, 81, 73, 81, 95, 77, 95, 76, 91, 83, 89, 76, 72, 85, 79, 73, 99, 71, 74, 72, 84, 93, 98, 77, 75, 84, 84, 92, 75, 92, 81, 93, 99, 71, 72, 74, 90, 94]\n"
     ]
    }
   ],
   "source": [
    "# 2. To list score > 70\n",
    "scoreTestJos = [score for score in scoreTest if score > 70]\n",
    "\n",
    "print(\"Score with value > 70: \", scoreTestJos)"
   ]
  },
  {
   "cell_type": "code",
   "execution_count": 4,
   "metadata": {},
   "outputs": [
    {
     "name": "stdout",
     "output_type": "stream",
     "text": [
      "Manual Standard deviation:  28.311338781740048\n"
     ]
    }
   ],
   "source": [
    "# 3. To calculate Standard Deviation\n",
    "# With no library\n",
    "# Calculate average\n",
    "total = 0\n",
    "for n in scoreTest:\n",
    "    total = total + n    \n",
    "average = total / len(scoreTest)\n",
    "\n",
    "# Start calculating standard deviation\n",
    "numerator = 0\n",
    "for n in scoreTest:\n",
    "    numerator = numerator + pow((n - average), 2)\n",
    "denominator = len(scoreTest) - 1\n",
    "import math\n",
    "standardDeviation2 = math.sqrt(numerator / denominator)\n",
    "\n",
    "print(\"Manual Standard deviation: \", standardDeviation2)\n",
    "\n",
    "# # With Library\n",
    "# import numpy as np\n",
    "# standardDeviation = np.std(scoreTest)\n",
    "\n",
    "# print(\"Standard deviation: \", standardDeviation)"
   ]
  },
  {
   "cell_type": "code",
   "execution_count": 5,
   "metadata": {},
   "outputs": [
    {
     "name": "stdout",
     "output_type": "stream",
     "text": [
      "Minimum score:  1\n",
      "Maximum score:  99\n"
     ]
    }
   ],
   "source": [
    "# 4. To count max and min score\n",
    "scoreMin = 100\n",
    "scoreMax = 0\n",
    "for score in scoreTest:\n",
    "    if score < scoreMin:\n",
    "        scoreMin = score\n",
    "    if score > scoreMax:\n",
    "        scoreMax = score\n",
    "        \n",
    "print(\"Minimum score: \", scoreMin)\n",
    "print(\"Maximum score: \", scoreMax)"
   ]
  },
  {
   "cell_type": "code",
   "execution_count": 6,
   "metadata": {},
   "outputs": [
    {
     "name": "stdout",
     "output_type": "stream",
     "text": [
      "Mode:  77  with count:  6\n"
     ]
    }
   ],
   "source": [
    "# 5. To count mode\n",
    "scoreDict = dict()\n",
    "for score in scoreTest:\n",
    "    scoreDict[score] = scoreDict.get(score,0) + 1\n",
    "\n",
    "scoreList = list()\n",
    "for score, count in scoreDict.items():\n",
    "    scoreList.append((count, score))\n",
    "\n",
    "scoreList.sort(reverse = True)\n",
    "print(\"Mode: \", scoreList[0][1], \" with count: \", scoreList[0][0])"
   ]
  }
 ],
 "metadata": {
  "kernelspec": {
   "display_name": "Python 3",
   "language": "python",
   "name": "python3"
  },
  "language_info": {
   "codemirror_mode": {
    "name": "ipython",
    "version": 3
   },
   "file_extension": ".py",
   "mimetype": "text/x-python",
   "name": "python",
   "nbconvert_exporter": "python",
   "pygments_lexer": "ipython3",
   "version": "3.6.4"
  }
 },
 "nbformat": 4,
 "nbformat_minor": 2
}
